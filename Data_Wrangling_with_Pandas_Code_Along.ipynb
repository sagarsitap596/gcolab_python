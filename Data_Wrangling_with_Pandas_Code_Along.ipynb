{
  "nbformat": 4,
  "nbformat_minor": 0,
  "metadata": {
    "kernelspec": {
      "display_name": "Python 3",
      "language": "python",
      "name": "python3"
    },
    "language_info": {
      "codemirror_mode": {
        "name": "ipython",
        "version": 3
      },
      "file_extension": ".py",
      "mimetype": "text/x-python",
      "name": "python",
      "nbconvert_exporter": "python",
      "pygments_lexer": "ipython3",
      "version": "3.7.1"
    },
    "colab": {
      "name": "Data Wrangling with Pandas Code Along.ipynb",
      "version": "0.3.2",
      "provenance": [],
      "collapsed_sections": [],
      "toc_visible": true,
      "include_colab_link": true
    }
  },
  "cells": [
    {
      "cell_type": "markdown",
      "metadata": {
        "id": "view-in-github",
        "colab_type": "text"
      },
      "source": [
        "<a href=\"https://colab.research.google.com/github/sagarsitap596/gcolab_python/blob/master/Data_Wrangling_with_Pandas_Code_Along.ipynb\" target=\"_parent\"><img src=\"https://colab.research.google.com/assets/colab-badge.svg\" alt=\"Open In Colab\"/></a>"
      ]
    },
    {
      "cell_type": "markdown",
      "metadata": {
        "id": "J0YJY5Xwchi4",
        "colab_type": "text"
      },
      "source": [
        "# IPL Dataset Analysis\n",
        "\n",
        "## Problem Statement\n",
        "We want to know as to what happens during an IPL match which raises several questions in our mind with our limited knowledge about the game called cricket on which it is based. This analysis is done to know as which factors led one of the team to win and how does it matter."
      ]
    },
    {
      "cell_type": "markdown",
      "metadata": {
        "id": "qhxrojlSchi5",
        "colab_type": "text"
      },
      "source": [
        "## About the Dataset :\n",
        "The Indian Premier League (IPL) is a professional T20 cricket league in India contested during April-May of every year by teams representing Indian cities. It is the most-attended cricket league in the world and ranks sixth among all the sports leagues. It has teams with players from around the world and is very competitive and entertaining with a lot of close matches between teams.\n",
        "\n",
        "The IPL and other cricket related datasets are available at [cricsheet.org](https://cricsheet.org/%c2%a0(data). Feel free to visit the website and explore the data by yourself as exploring new sources of data is one of the interesting activities a data scientist gets to do.\n",
        "\n",
        "Snapshot of the data you will be working on:<br>\n",
        "<br>\n",
        "The dataset 136522 data points and 23 features<br>\n",
        "\n",
        "|Features|Description|\n",
        "|-----|-----|\n",
        "|match_code|Code pertaining to individual match|\n",
        "|date|Date of the match played|\n",
        "|city|City where the match was played|\n",
        "|venue|Stadium in that city where the match was played|\n",
        "|team1|team1|\n",
        "|team2|team2|\n",
        "|toss_winner|Who won the toss out of two teams|\n",
        "|toss_decision|toss decision taken by toss winner|\n",
        "|winner|Winner of that match between two teams|\n",
        "|win_type|How did the team won(by wickets or runs etc.)|\n",
        "|win_margin|difference with which the team won| \n",
        "|inning|inning type(1st or 2nd)|\n",
        "|delivery|ball delivery|\n",
        "|batting_team|current team on batting|\n",
        "|batsman|current batsman on strike|\n",
        "|non_striker|batsman on non-strike|\n",
        "|bowler|Current bowler|\n",
        "|runs|runs scored|\n",
        "|extras|extra run scored|\n",
        "|total|total run scored on that delivery including runs and extras|\n",
        "|extras_type|extra run scored by wides or no ball or legby|\n",
        "|player_out|player that got out|\n",
        "|wicket_kind|How did the player got out|\n",
        "|wicket_fielders|Fielder who caught out the player by catch|\n"
      ]
    },
    {
      "cell_type": "markdown",
      "metadata": {
        "id": "c8rWRREXchi6",
        "colab_type": "text"
      },
      "source": [
        "### Analyzing data using pandas module"
      ]
    },
    {
      "cell_type": "markdown",
      "metadata": {
        "id": "jF1tZYRAchi6",
        "colab_type": "text"
      },
      "source": [
        "### Read the data using pandas module."
      ]
    },
    {
      "cell_type": "code",
      "metadata": {
        "id": "4JbnT5Btchi7",
        "colab_type": "code",
        "outputId": "ab027199-c8ff-4658-ff4f-483a9f4eb00e",
        "colab": {
          "base_uri": "https://localhost:8080/",
          "height": 35
        }
      },
      "source": [
        "import pandas as pd\n",
        "import numpy as np\n",
        "df_ipl = pd.read_csv('/content/ipl_dataset.csv')\n",
        "df_ipl.shape"
      ],
      "execution_count": 6,
      "outputs": [
        {
          "output_type": "execute_result",
          "data": {
            "text/plain": [
              "577"
            ]
          },
          "metadata": {
            "tags": []
          },
          "execution_count": 6
        }
      ]
    },
    {
      "cell_type": "code",
      "metadata": {
        "id": "bjloqx4Achi-",
        "colab_type": "code",
        "outputId": "de10154d-54eb-4533-aa93-9d478fea4b26",
        "colab": {
          "base_uri": "https://localhost:8080/",
          "height": 35
        }
      },
      "source": [
        "len(df_ipl['match_code'].unique())\n",
        "\n",
        "# You can also use: \n",
        "#df_ipl['match_code'].nunique()"
      ],
      "execution_count": 0,
      "outputs": [
        {
          "output_type": "execute_result",
          "data": {
            "text/plain": [
              "577"
            ]
          },
          "metadata": {
            "tags": []
          },
          "execution_count": 9
        }
      ]
    },
    {
      "cell_type": "markdown",
      "metadata": {
        "id": "SxWwOpbFchjA",
        "colab_type": "text"
      },
      "source": [
        "### There are certain fixed cities all around the world where matches are held. Find the list of unique cities where matches were played "
      ]
    },
    {
      "cell_type": "code",
      "metadata": {
        "id": "4In5Uu3pchjB",
        "colab_type": "code",
        "outputId": "cd99d9e4-6f64-4bed-fc0e-50aa08e3df18",
        "colab": {
          "base_uri": "https://localhost:8080/",
          "height": 121
        }
      },
      "source": [
        "# Corrected as Venues to Cities\n",
        "# np.unique(df_ipl['city'].values)\n",
        "df_ipl['city'].unique()"
      ],
      "execution_count": 80,
      "outputs": [
        {
          "output_type": "execute_result",
          "data": {
            "text/plain": [
              "array(['East London', 'Port Elizabeth', 'Centurion', 'neutral_venue',\n",
              "       'Chennai', 'Jaipur', 'Kolkata', 'Delhi', 'Chandigarh', 'Hyderabad',\n",
              "       'Ranchi', 'Mumbai', 'Bangalore', 'Dharamsala', 'Pune', 'Rajkot',\n",
              "       'Durban', 'Cuttack', 'Cape Town', 'Ahmedabad', 'Johannesburg',\n",
              "       'Visakhapatnam', 'Abu Dhabi', 'Raipur', 'Kochi', 'Kimberley',\n",
              "       'Nagpur', 'Bloemfontein', 'Indore', 'Kanpur'], dtype=object)"
            ]
          },
          "metadata": {
            "tags": []
          },
          "execution_count": 80
        }
      ]
    },
    {
      "cell_type": "markdown",
      "metadata": {
        "id": "QQR3F1FqchjD",
        "colab_type": "text"
      },
      "source": [
        "### Find the columns which contains null values if any ?"
      ]
    },
    {
      "cell_type": "code",
      "metadata": {
        "id": "D2E3Zo74dk-D",
        "colab_type": "code",
        "colab": {}
      },
      "source": [
        ""
      ],
      "execution_count": 0,
      "outputs": []
    },
    {
      "cell_type": "code",
      "metadata": {
        "id": "LO0xHE4ZchjD",
        "colab_type": "code",
        "outputId": "e92d9c54-86c4-44e9-8752-81e8fcfa5c8c",
        "colab": {
          "base_uri": "https://localhost:8080/",
          "height": 449
        }
      },
      "source": [
        "df_ipl.columns[df_ipl.isna().any()].tolist()\n",
        "print(df_ipl.isna().any())\n",
        "    "
      ],
      "execution_count": 81,
      "outputs": [
        {
          "output_type": "stream",
          "text": [
            "match_code         False\n",
            "date               False\n",
            "city               False\n",
            "venue              False\n",
            "team1              False\n",
            "team2              False\n",
            "toss_winner        False\n",
            "toss_decision      False\n",
            "winner              True\n",
            "win_type            True\n",
            "win_margin          True\n",
            "inning             False\n",
            "delivery           False\n",
            "batting_team       False\n",
            "batsman            False\n",
            "non_striker        False\n",
            "bowler             False\n",
            "runs               False\n",
            "extras             False\n",
            "total              False\n",
            "extras_type         True\n",
            "player_out          True\n",
            "wicket_kind         True\n",
            "wicket_fielders     True\n",
            "dtype: bool\n"
          ],
          "name": "stdout"
        }
      ]
    },
    {
      "cell_type": "markdown",
      "metadata": {
        "id": "nnMGIMF3chjF",
        "colab_type": "text"
      },
      "source": [
        "### Though the match is held in different cities all around the world it may or maynot have multiple venues (stadiums where matches are held) list down top 5 most played venues \n"
      ]
    },
    {
      "cell_type": "code",
      "metadata": {
        "id": "rocOh59ochjF",
        "colab_type": "code",
        "colab": {
          "base_uri": "https://localhost:8080/",
          "height": 138
        },
        "outputId": "e682fa49-8026-4fe6-9446-8acfb4d86a90"
      },
      "source": [
        "df_ipl.groupby('venue')['match_code'].nunique().sort_values(ascending=False)[0:5]\n",
        "# df_ipl.groupby('venue')[['match_code']].nunique().sort_values(by='match_code',ascending=False)[0:5]"
      ],
      "execution_count": 82,
      "outputs": [
        {
          "output_type": "execute_result",
          "data": {
            "text/plain": [
              "venue\n",
              "M Chinnaswamy Stadium              58\n",
              "Eden Gardens                       54\n",
              "Feroz Shah Kotla                   53\n",
              "Wankhede Stadium                   49\n",
              "MA Chidambaram Stadium, Chepauk    48\n",
              "Name: match_code, dtype: int64"
            ]
          },
          "metadata": {
            "tags": []
          },
          "execution_count": 82
        }
      ]
    },
    {
      "cell_type": "code",
      "metadata": {
        "id": "1CDcS1cochjH",
        "colab_type": "code",
        "colab": {}
      },
      "source": [
        ""
      ],
      "execution_count": 0,
      "outputs": []
    },
    {
      "cell_type": "markdown",
      "metadata": {
        "id": "oNf9xFIdchjJ",
        "colab_type": "text"
      },
      "source": [
        "### Make a runs vs run-count frequency table"
      ]
    },
    {
      "cell_type": "code",
      "metadata": {
        "id": "_IgRy6jqchjJ",
        "colab_type": "code",
        "colab": {
          "base_uri": "https://localhost:8080/",
          "height": 155
        },
        "outputId": "3291f4d4-ba00-41c6-e48a-f3263b041c8f"
      },
      "source": [
        "df_ipl['runs'].value_counts()"
      ],
      "execution_count": 83,
      "outputs": [
        {
          "output_type": "execute_result",
          "data": {
            "text/plain": [
              "0    55870\n",
              "1    50087\n",
              "4    15409\n",
              "2     8835\n",
              "6     5806\n",
              "3      473\n",
              "5       42\n",
              "Name: runs, dtype: int64"
            ]
          },
          "metadata": {
            "tags": []
          },
          "execution_count": 83
        }
      ]
    },
    {
      "cell_type": "markdown",
      "metadata": {
        "id": "wOgorIE3chjM",
        "colab_type": "text"
      },
      "source": [
        "### IPL seasons are held every year now let's look at our data and extract how many seasons were recorded."
      ]
    },
    {
      "cell_type": "code",
      "metadata": {
        "scrolled": true,
        "id": "FLvvuMRGchjN",
        "colab_type": "code",
        "colab": {
          "base_uri": "https://localhost:8080/",
          "height": 35
        },
        "outputId": "ef329465-39c5-406c-c16b-7811d8b10d14"
      },
      "source": [
        "def get_year(data):\n",
        "  return data.year\n",
        "\n",
        "pd.to_datetime(df_ipl['date']).apply(lambda x : x.year).nunique()\n",
        "pd.to_datetime(df_ipl['date']).apply(get_year).unique()\n",
        "\n"
      ],
      "execution_count": 84,
      "outputs": [
        {
          "output_type": "execute_result",
          "data": {
            "text/plain": [
              "array([2009, 2014, 2011, 2008, 2015, 2010, 2013, 2012, 2016])"
            ]
          },
          "metadata": {
            "tags": []
          },
          "execution_count": 84
        }
      ]
    },
    {
      "cell_type": "markdown",
      "metadata": {
        "id": "pEg5WhJ5chjO",
        "colab_type": "text"
      },
      "source": [
        "### What are the total no. of matches played per season"
      ]
    },
    {
      "cell_type": "code",
      "metadata": {
        "id": "GnYggyG2chjP",
        "colab_type": "code",
        "colab": {
          "base_uri": "https://localhost:8080/",
          "height": 207
        },
        "outputId": "c889b57e-f7d5-4f5f-aa2a-dc115642b77c"
      },
      "source": [
        "df_ipl['Year'] = pd.to_datetime(df_ipl['date']).apply(lambda x : x.year)\n",
        "df_ipl.groupby('Year')['match_code'].nunique()"
      ],
      "execution_count": 20,
      "outputs": [
        {
          "output_type": "execute_result",
          "data": {
            "text/plain": [
              "Year\n",
              "2008    58\n",
              "2009    57\n",
              "2010    60\n",
              "2011    73\n",
              "2012    74\n",
              "2013    76\n",
              "2014    60\n",
              "2015    59\n",
              "2016    60\n",
              "Name: match_code, dtype: int64"
            ]
          },
          "metadata": {
            "tags": []
          },
          "execution_count": 20
        }
      ]
    },
    {
      "cell_type": "markdown",
      "metadata": {
        "id": "nE1LbKRGchjS",
        "colab_type": "text"
      },
      "source": [
        "### What are the total runs scored across each season "
      ]
    },
    {
      "cell_type": "code",
      "metadata": {
        "id": "It1wbRYYdp6g",
        "colab_type": "code",
        "colab": {}
      },
      "source": [
        ""
      ],
      "execution_count": 0,
      "outputs": []
    },
    {
      "cell_type": "code",
      "metadata": {
        "id": "rczEuy8achjT",
        "colab_type": "code",
        "colab": {
          "base_uri": "https://localhost:8080/",
          "height": 207
        },
        "outputId": "088d9b8f-f6f6-40bb-e16e-fd93989c4d4b"
      },
      "source": [
        "df_ipl.groupby('Year')['runs'].sum()"
      ],
      "execution_count": 86,
      "outputs": [
        {
          "output_type": "execute_result",
          "data": {
            "text/plain": [
              "Year\n",
              "2008    16809\n",
              "2009    15344\n",
              "2010    17734\n",
              "2011    19928\n",
              "2012    21322\n",
              "2013    21427\n",
              "2014    17922\n",
              "2015    17409\n",
              "2016    17963\n",
              "Name: runs, dtype: int64"
            ]
          },
          "metadata": {
            "tags": []
          },
          "execution_count": 86
        }
      ]
    },
    {
      "cell_type": "code",
      "metadata": {
        "id": "TCNo0S0MchjU",
        "colab_type": "code",
        "colab": {}
      },
      "source": [
        ""
      ],
      "execution_count": 0,
      "outputs": []
    },
    {
      "cell_type": "markdown",
      "metadata": {
        "id": "218CI5xuchjW",
        "colab_type": "text"
      },
      "source": [
        "### There are teams which are high performing and low performing. Let's look at the aspect of performance of an individual team. Filter the data and aggregate the runs scored by each team. Display top 10 results which are having runs scored over 200."
      ]
    },
    {
      "cell_type": "code",
      "metadata": {
        "id": "PyXzKfsjchjW",
        "colab_type": "code",
        "colab": {
          "base_uri": "https://localhost:8080/",
          "height": 35
        },
        "outputId": "11731002-cea2-4a4c-8357-3a4472441510"
      },
      "source": [
        "# result as data frame\n",
        "#  teams_total_score = df_ipl.groupby(['match_code','batting_team'])[['total']].sum()\n",
        "#  teams_total_score[teams_total_score['total'] > 200]['total'].nlargest(10)\n",
        "\n",
        "# result as series\n",
        "teams_total_score = df_ipl.groupby(['match_code','batting_team'])['total'].sum()\n",
        "teams_total_score[teams_total_score > 200].nlargest(10)"
      ],
      "execution_count": 156,
      "outputs": [
        {
          "output_type": "execute_result",
          "data": {
            "text/plain": [
              "Index(['total'], dtype='object')"
            ]
          },
          "metadata": {
            "tags": []
          },
          "execution_count": 156
        }
      ]
    },
    {
      "cell_type": "code",
      "metadata": {
        "id": "rT3XnsxAchjY",
        "colab_type": "code",
        "colab": {}
      },
      "source": [
        ""
      ],
      "execution_count": 0,
      "outputs": []
    },
    {
      "cell_type": "code",
      "metadata": {
        "id": "hgMv1NIhchjZ",
        "colab_type": "code",
        "colab": {}
      },
      "source": [
        ""
      ],
      "execution_count": 0,
      "outputs": []
    },
    {
      "cell_type": "markdown",
      "metadata": {
        "id": "HVm9J_bochjb",
        "colab_type": "text"
      },
      "source": [
        "### Chasing a 200+ target is difficulty in T-20 format. What are the chances that a team scoring runs above 200  in their 1st inning is chased by the opposition in 2nd inning."
      ]
    },
    {
      "cell_type": "code",
      "metadata": {
        "id": "aY5Dn3M2chjb",
        "colab_type": "code",
        "colab": {
          "base_uri": "https://localhost:8080/",
          "height": 35
        },
        "outputId": "5737becf-f67d-4877-cac2-d8d81023680d"
      },
      "source": [
        "teams_total_score = df_ipl.groupby(['match_code','batting_team','inning'])['total'].sum().reset_index()\n",
        "\n",
        "inn1_200 = teams_total_score[(teams_total_score['total'] > 200 ) & (teams_total_score['inning'] == 1)]\n",
        "inn2_200 = teams_total_score[(teams_total_score['total'] > 200 ) & (teams_total_score['inning'] == 2)]\n",
        "\n",
        "m = pd.merge(inn1_200,inn2_200,on='match_code')\n",
        "total_count = len(m)\n",
        "numberOfseconInngChased = len(m[m['total_x'] < m['total_y']])\n",
        "\n",
        "print(round(numberOfseconInngChased/total_count *100))"
      ],
      "execution_count": 169,
      "outputs": [
        {
          "output_type": "stream",
          "text": [
            "42\n"
          ],
          "name": "stdout"
        }
      ]
    },
    {
      "cell_type": "markdown",
      "metadata": {
        "id": "8oczCI3cchjj",
        "colab_type": "text"
      },
      "source": [
        "### Every season has that one team which is outperforming others and is in great form. Which team has the highest win counts in their respective seasons ?"
      ]
    },
    {
      "cell_type": "code",
      "metadata": {
        "id": "U1lUo_k7chjj",
        "colab_type": "code",
        "colab": {
          "base_uri": "https://localhost:8080/",
          "height": 207
        },
        "outputId": "eff8a247-22ff-4d58-ea65-947af5ff3524"
      },
      "source": [
        "# print(df_ipl['match_code'].nunique())\n",
        "df2 = df_ipl[['match_code','winner','Year']].drop_duplicates()\n",
        "print(df2.head(10))\n"
      ],
      "execution_count": 64,
      "outputs": [
        {
          "output_type": "stream",
          "text": [
            "      match_code                 winner  Year\n",
            "0         392203         Mumbai Indians  2009\n",
            "253       392197         Mumbai Indians  2009\n",
            "472       392212        Deccan Chargers  2009\n",
            "717       729297    Chennai Super Kings  2014\n",
            "964       501226    Chennai Super Kings  2011\n",
            "1210      335987       Rajasthan Royals  2008\n",
            "1451      392227    Chennai Super Kings  2009\n",
            "1693      829761  Kolkata Knight Riders  2015\n",
            "1943      336005       Rajasthan Royals  2008\n",
            "2151      501223       Delhi Daredevils  2011\n"
          ],
          "name": "stdout"
        }
      ]
    },
    {
      "cell_type": "code",
      "metadata": {
        "id": "GxHbY-vuchjl",
        "colab_type": "code",
        "colab": {
          "base_uri": "https://localhost:8080/",
          "height": 348
        },
        "outputId": "7f67d093-b321-4d5f-ea60-09d55ec9bd99"
      },
      "source": [
        "# df2.groupby(['Year','winner']).size().unstack(fill_value=0)\n",
        "df3 = df2.groupby(['Year','winner']).size().to_frame(name='count').reset_index()\n",
        "df3.head(10)"
      ],
      "execution_count": 112,
      "outputs": [
        {
          "output_type": "execute_result",
          "data": {
            "text/html": [
              "<div>\n",
              "<style scoped>\n",
              "    .dataframe tbody tr th:only-of-type {\n",
              "        vertical-align: middle;\n",
              "    }\n",
              "\n",
              "    .dataframe tbody tr th {\n",
              "        vertical-align: top;\n",
              "    }\n",
              "\n",
              "    .dataframe thead th {\n",
              "        text-align: right;\n",
              "    }\n",
              "</style>\n",
              "<table border=\"1\" class=\"dataframe\">\n",
              "  <thead>\n",
              "    <tr style=\"text-align: right;\">\n",
              "      <th></th>\n",
              "      <th>Year</th>\n",
              "      <th>winner</th>\n",
              "      <th>count</th>\n",
              "    </tr>\n",
              "  </thead>\n",
              "  <tbody>\n",
              "    <tr>\n",
              "      <th>0</th>\n",
              "      <td>2008</td>\n",
              "      <td>Chennai Super Kings</td>\n",
              "      <td>9</td>\n",
              "    </tr>\n",
              "    <tr>\n",
              "      <th>1</th>\n",
              "      <td>2008</td>\n",
              "      <td>Deccan Chargers</td>\n",
              "      <td>2</td>\n",
              "    </tr>\n",
              "    <tr>\n",
              "      <th>2</th>\n",
              "      <td>2008</td>\n",
              "      <td>Delhi Daredevils</td>\n",
              "      <td>7</td>\n",
              "    </tr>\n",
              "    <tr>\n",
              "      <th>3</th>\n",
              "      <td>2008</td>\n",
              "      <td>Kings XI Punjab</td>\n",
              "      <td>10</td>\n",
              "    </tr>\n",
              "    <tr>\n",
              "      <th>4</th>\n",
              "      <td>2008</td>\n",
              "      <td>Kolkata Knight Riders</td>\n",
              "      <td>6</td>\n",
              "    </tr>\n",
              "    <tr>\n",
              "      <th>5</th>\n",
              "      <td>2008</td>\n",
              "      <td>Mumbai Indians</td>\n",
              "      <td>7</td>\n",
              "    </tr>\n",
              "    <tr>\n",
              "      <th>6</th>\n",
              "      <td>2008</td>\n",
              "      <td>Rajasthan Royals</td>\n",
              "      <td>13</td>\n",
              "    </tr>\n",
              "    <tr>\n",
              "      <th>7</th>\n",
              "      <td>2008</td>\n",
              "      <td>Royal Challengers Bangalore</td>\n",
              "      <td>4</td>\n",
              "    </tr>\n",
              "    <tr>\n",
              "      <th>8</th>\n",
              "      <td>2009</td>\n",
              "      <td>Chennai Super Kings</td>\n",
              "      <td>8</td>\n",
              "    </tr>\n",
              "    <tr>\n",
              "      <th>9</th>\n",
              "      <td>2009</td>\n",
              "      <td>Deccan Chargers</td>\n",
              "      <td>9</td>\n",
              "    </tr>\n",
              "  </tbody>\n",
              "</table>\n",
              "</div>"
            ],
            "text/plain": [
              "   Year                       winner  count\n",
              "0  2008          Chennai Super Kings      9\n",
              "1  2008              Deccan Chargers      2\n",
              "2  2008             Delhi Daredevils      7\n",
              "3  2008              Kings XI Punjab     10\n",
              "4  2008        Kolkata Knight Riders      6\n",
              "5  2008               Mumbai Indians      7\n",
              "6  2008             Rajasthan Royals     13\n",
              "7  2008  Royal Challengers Bangalore      4\n",
              "8  2009          Chennai Super Kings      8\n",
              "9  2009              Deccan Chargers      9"
            ]
          },
          "metadata": {
            "tags": []
          },
          "execution_count": 112
        }
      ]
    },
    {
      "cell_type": "code",
      "metadata": {
        "id": "ot1qhFrwchjm",
        "colab_type": "code",
        "colab": {
          "base_uri": "https://localhost:8080/",
          "height": 504
        },
        "outputId": "72ebf4e2-aee5-4b5f-ceb0-359807f41203"
      },
      "source": [
        "print(df3.groupby(['Year']).get_group(2008))\n",
        "df3.groupby(['Year']).max()"
      ],
      "execution_count": 120,
      "outputs": [
        {
          "output_type": "stream",
          "text": [
            "   Year                       winner  count\n",
            "0  2008          Chennai Super Kings      9\n",
            "1  2008              Deccan Chargers      2\n",
            "2  2008             Delhi Daredevils      7\n",
            "3  2008              Kings XI Punjab     10\n",
            "4  2008        Kolkata Knight Riders      6\n",
            "5  2008               Mumbai Indians      7\n",
            "6  2008             Rajasthan Royals     13\n",
            "7  2008  Royal Challengers Bangalore      4\n"
          ],
          "name": "stdout"
        },
        {
          "output_type": "execute_result",
          "data": {
            "text/html": [
              "<div>\n",
              "<style scoped>\n",
              "    .dataframe tbody tr th:only-of-type {\n",
              "        vertical-align: middle;\n",
              "    }\n",
              "\n",
              "    .dataframe tbody tr th {\n",
              "        vertical-align: top;\n",
              "    }\n",
              "\n",
              "    .dataframe thead th {\n",
              "        text-align: right;\n",
              "    }\n",
              "</style>\n",
              "<table border=\"1\" class=\"dataframe\">\n",
              "  <thead>\n",
              "    <tr style=\"text-align: right;\">\n",
              "      <th></th>\n",
              "      <th>winner</th>\n",
              "      <th>count</th>\n",
              "    </tr>\n",
              "    <tr>\n",
              "      <th>Year</th>\n",
              "      <th></th>\n",
              "      <th></th>\n",
              "    </tr>\n",
              "  </thead>\n",
              "  <tbody>\n",
              "    <tr>\n",
              "      <th>2008</th>\n",
              "      <td>Royal Challengers Bangalore</td>\n",
              "      <td>13</td>\n",
              "    </tr>\n",
              "    <tr>\n",
              "      <th>2009</th>\n",
              "      <td>Royal Challengers Bangalore</td>\n",
              "      <td>10</td>\n",
              "    </tr>\n",
              "    <tr>\n",
              "      <th>2010</th>\n",
              "      <td>Royal Challengers Bangalore</td>\n",
              "      <td>11</td>\n",
              "    </tr>\n",
              "    <tr>\n",
              "      <th>2011</th>\n",
              "      <td>Royal Challengers Bangalore</td>\n",
              "      <td>11</td>\n",
              "    </tr>\n",
              "    <tr>\n",
              "      <th>2012</th>\n",
              "      <td>Royal Challengers Bangalore</td>\n",
              "      <td>12</td>\n",
              "    </tr>\n",
              "    <tr>\n",
              "      <th>2013</th>\n",
              "      <td>Sunrisers Hyderabad</td>\n",
              "      <td>13</td>\n",
              "    </tr>\n",
              "    <tr>\n",
              "      <th>2014</th>\n",
              "      <td>Sunrisers Hyderabad</td>\n",
              "      <td>12</td>\n",
              "    </tr>\n",
              "    <tr>\n",
              "      <th>2015</th>\n",
              "      <td>Sunrisers Hyderabad</td>\n",
              "      <td>10</td>\n",
              "    </tr>\n",
              "    <tr>\n",
              "      <th>2016</th>\n",
              "      <td>Sunrisers Hyderabad</td>\n",
              "      <td>11</td>\n",
              "    </tr>\n",
              "  </tbody>\n",
              "</table>\n",
              "</div>"
            ],
            "text/plain": [
              "                           winner  count\n",
              "Year                                    \n",
              "2008  Royal Challengers Bangalore     13\n",
              "2009  Royal Challengers Bangalore     10\n",
              "2010  Royal Challengers Bangalore     11\n",
              "2011  Royal Challengers Bangalore     11\n",
              "2012  Royal Challengers Bangalore     12\n",
              "2013          Sunrisers Hyderabad     13\n",
              "2014          Sunrisers Hyderabad     12\n",
              "2015          Sunrisers Hyderabad     10\n",
              "2016          Sunrisers Hyderabad     11"
            ]
          },
          "metadata": {
            "tags": []
          },
          "execution_count": 120
        }
      ]
    }
  ]
}