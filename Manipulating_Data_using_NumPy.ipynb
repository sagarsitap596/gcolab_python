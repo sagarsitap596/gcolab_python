{
  "nbformat": 4,
  "nbformat_minor": 0,
  "metadata": {
    "celltoolbar": "Slideshow",
    "kernelspec": {
      "display_name": "Python 3",
      "language": "python",
      "name": "python3"
    },
    "language_info": {
      "codemirror_mode": {
        "name": "ipython",
        "version": 3
      },
      "file_extension": ".py",
      "mimetype": "text/x-python",
      "name": "python",
      "nbconvert_exporter": "python",
      "pygments_lexer": "ipython3",
      "version": "3.7.0"
    },
    "toc": {
      "colors": {
        "hover_highlight": "#DAA520",
        "running_highlight": "#FF0000",
        "selected_highlight": "#FFD700"
      },
      "moveMenuLeft": true,
      "nav_menu": {
        "height": "399px",
        "width": "252px"
      },
      "navigate_menu": true,
      "number_sections": true,
      "sideBar": true,
      "threshold": "2",
      "toc_cell": false,
      "toc_position": {
        "height": "664px",
        "left": "0px",
        "right": "1388px",
        "top": "107px",
        "width": "212px"
      },
      "toc_section_display": "block",
      "toc_window_display": false
    },
    "widgets": {
      "state": {},
      "version": "1.1.2"
    },
    "colab": {
      "name": "Manipulating Data using NumPy.ipynb",
      "version": "0.3.2",
      "provenance": [],
      "collapsed_sections": [],
      "toc_visible": true,
      "include_colab_link": true
    }
  },
  "cells": [
    {
      "cell_type": "markdown",
      "metadata": {
        "id": "view-in-github",
        "colab_type": "text"
      },
      "source": [
        "<a href=\"https://colab.research.google.com/github/sagarsitap596/gcolab_python/blob/master/Manipulating_Data_using_NumPy.ipynb\" target=\"_parent\"><img src=\"https://colab.research.google.com/assets/colab-badge.svg\" alt=\"Open In Colab\"/></a>"
      ]
    },
    {
      "cell_type": "markdown",
      "metadata": {
        "id": "VemSqRfXebdw",
        "colab_type": "text"
      },
      "source": [
        "# Manipulating Data using NumPy"
      ]
    },
    {
      "cell_type": "markdown",
      "metadata": {
        "id": "f8XUi3aAebdx",
        "colab_type": "text"
      },
      "source": [
        "## Explainer Video"
      ]
    },
    {
      "cell_type": "code",
      "metadata": {
        "id": "G0RebdqBebdz",
        "colab_type": "code",
        "outputId": "45186925-98d8-457d-a0f5-b341ee5e09a5",
        "colab": {
          "base_uri": "https://localhost:8080/",
          "height": 622
        }
      },
      "source": [
        "from IPython.display import HTML\n",
        "\n",
        "HTML('<iframe src=\"https://player.vimeo.com/video/278480086\" width=\"800\" height=\"600\" frameborder=\"0\" webkitallowfullscreen mozallowfullscreen allowfullscreen></iframe>')\n"
      ],
      "execution_count": 0,
      "outputs": [
        {
          "output_type": "execute_result",
          "data": {
            "text/html": [
              "<iframe src=\"https://player.vimeo.com/video/278480086\" width=\"800\" height=\"600\" frameborder=\"0\" webkitallowfullscreen mozallowfullscreen allowfullscreen></iframe>"
            ],
            "text/plain": [
              "<IPython.core.display.HTML object>"
            ]
          },
          "metadata": {
            "tags": []
          },
          "execution_count": 1
        }
      ]
    },
    {
      "cell_type": "markdown",
      "metadata": {
        "id": "MfBjUy4Rebd2",
        "colab_type": "text"
      },
      "source": [
        "![caption](../images/numpy-logo.jpg)\n",
        "***\n",
        "NumPy, which stands for Numerical Python, is a library consisting of multidimensional array objects and a collection of routines for processing those arrays. Using NumPy, mathematical and logical operations on arrays can be performed. Let's along with the basics of NumPy such as its architecture and environment. It also discusses the various array functions, types of indexing, etc.\n",
        "\n",
        "We can install numpy by `pip install numpy`\n",
        "\n",
        "- Main object: **`ndarray`**"
      ]
    },
    {
      "cell_type": "markdown",
      "metadata": {
        "id": "KubV672-ebd3",
        "colab_type": "text"
      },
      "source": [
        "<img src=\"../images/icon/Technical-Stuff.png\" alt=\"Technical-Stuff\" style=\"width: 100px;float:left; margin-right:15px\"/>\n",
        "<br />\n",
        "\n",
        "# ndarray\n",
        "***\n",
        "\n",
        "The most important object defined in NumPy is an N-dimensional array type called ndarray. It describes the collection of items of the same type. Items in the collection can be accessed using a zero-based index.\n",
        "\n",
        "Every item in an ndarray takes the same size of block in the memory. Each element in ndarray is an object of data-type object (called dtype).Any item extracted from ndarray object (by slicing) is represented by a Python object of one of array scalar types. An instance of ndarray class can be constructed by different array creation routines described later.\n",
        "\n",
        "You import the function in python by calling `import numpy`. The basic ndarray is created using an array function in NumPy as follows −"
      ]
    },
    {
      "cell_type": "code",
      "metadata": {
        "scrolled": true,
        "id": "h2Y0U7Ftebd4",
        "colab_type": "code",
        "colab": {}
      },
      "source": [
        "import numpy as np\n",
        "np.array\n",
        "\n",
        "?np"
      ],
      "execution_count": 0,
      "outputs": []
    },
    {
      "cell_type": "markdown",
      "metadata": {
        "id": "320gt0UXebd7",
        "colab_type": "text"
      },
      "source": [
        "\n",
        "<img src=\"../images/icon/Concept-Alert.png\" alt=\"Concept-Alert\" style=\"width: 100px;float:left; margin-right:15px\"/>\n",
        "<br />\n",
        "\n",
        "## How do I create Arrays in Python?\n",
        "***\n",
        "* Create an array from a regular Python list or tuple using the array function. \n",
        "\n",
        "* The type of the resulting array is deduced from the type of the elements in the sequences"
      ]
    },
    {
      "cell_type": "markdown",
      "metadata": {
        "id": "bQxKPufrebd7",
        "colab_type": "text"
      },
      "source": [
        "It creates an ndarray from any object exposing array interface, or from any method that returns an array."
      ]
    },
    {
      "cell_type": "code",
      "metadata": {
        "id": "T0osArJ5ebd8",
        "colab_type": "code",
        "outputId": "f6f9b56d-2678-4d20-ab17-16c8f0e7b745",
        "colab": {}
      },
      "source": [
        "numpy.array(object, dtype = None, copy = True, order = None, subok = False, ndmin = 0)"
      ],
      "execution_count": 0,
      "outputs": [
        {
          "output_type": "execute_result",
          "data": {
            "text/plain": [
              "array(<class 'object'>, dtype=object)"
            ]
          },
          "metadata": {
            "tags": []
          },
          "execution_count": 2
        }
      ]
    },
    {
      "cell_type": "markdown",
      "metadata": {
        "id": "qr0S0B44ebd-",
        "colab_type": "text"
      },
      "source": [
        "### Instructions\n",
        "* Create a list of number's as `[10,20,30]` and save it as `my_list`\n",
        "* Convert the list into an array using `np.array()`"
      ]
    },
    {
      "cell_type": "code",
      "metadata": {
        "ExecuteTime": {
          "end_time": "2017-09-25T08:05:43.734658Z",
          "start_time": "2017-09-25T08:05:41.934609Z"
        },
        "id": "f3O4rLHrebd_",
        "colab_type": "code",
        "outputId": "629f93e8-4c92-458f-c222-bffeae7303b7",
        "colab": {
          "base_uri": "https://localhost:8080/",
          "height": 86
        }
      },
      "source": [
        "import numpy as np\n",
        "\n",
        "my_list = list(range(10,40,10))\n",
        "print(np.array(range(10,40,10)))\n",
        "print(np.asarray(my_list))\n",
        "print(np.asarray(range(10,40,10)))\n",
        "\n",
        "aa=np.array([[1,2,3]])\n",
        "aa.shape"
      ],
      "execution_count": 0,
      "outputs": [
        {
          "output_type": "stream",
          "text": [
            "[10 20 30]\n",
            "[10 20 30]\n",
            "[10 20 30]\n"
          ],
          "name": "stdout"
        },
        {
          "output_type": "execute_result",
          "data": {
            "text/plain": [
              "(1, 3)"
            ]
          },
          "metadata": {
            "tags": []
          },
          "execution_count": 83
        }
      ]
    },
    {
      "cell_type": "markdown",
      "metadata": {
        "id": "T_LgmWWOebeB",
        "colab_type": "text"
      },
      "source": [
        "### Instructions\n",
        "* Create a list of list as `[[5, 10, 15], [20, 25, 30], [35, 40, 45]]` and save it as `list_of_lists `\n",
        "* Convert the list of list into an array using `np.array()` and print it.\n",
        "* Check the `type()` of the array."
      ]
    },
    {
      "cell_type": "code",
      "metadata": {
        "id": "ZMxQHZnPt65p",
        "colab_type": "code",
        "outputId": "d9843622-b4d6-4665-a0ca-53ebf340821a",
        "colab": {
          "base_uri": "https://localhost:8080/",
          "height": 173
        }
      },
      "source": [
        "list_of_lists = list(range(5,50,5))\n",
        "my_array = np.array(list_of_lists)\n",
        "my_array\n",
        "# print(my_array.reshape(3,3))\n",
        "print(my_array.resize(3,3))\n",
        "my_array\n",
        "\n",
        "print(my_array)\n",
        "print(my_array.shape)\n",
        "print(my_array.ndim)\n",
        "print(my_array[0:1,])\n",
        "print(my_array.nbytes) # total size (elements * dtype size of each )\n",
        "print(type(my_array.dtype))"
      ],
      "execution_count": 0,
      "outputs": [
        {
          "output_type": "stream",
          "text": [
            "None\n",
            "[[ 5 10 15]\n",
            " [20 25 30]\n",
            " [35 40 45]]\n",
            "(3, 3)\n",
            "2\n",
            "[[ 5 10 15]]\n",
            "72\n",
            "<class 'numpy.dtype'>\n"
          ],
          "name": "stdout"
        }
      ]
    },
    {
      "cell_type": "code",
      "metadata": {
        "id": "gHcB7oKTu5Wv",
        "colab_type": "code",
        "colab": {}
      },
      "source": [
        "# reshape vs resize\n",
        "# reshape return bew array and doesnt chnages original array.\n",
        "# resize changes original array and return None\n",
        "my_array = np.array(range(5,50,5))\n",
        "my_array\n",
        "# print(my_array.reshape(3,3))\n",
        "print(my_array.resize(3,3))\n",
        "my_array"
      ],
      "execution_count": 0,
      "outputs": []
    },
    {
      "cell_type": "markdown",
      "metadata": {
        "id": "UrIKe1YuebeE",
        "colab_type": "text"
      },
      "source": [
        "An example of how does n-dimensional looks"
      ]
    },
    {
      "cell_type": "markdown",
      "metadata": {
        "id": "WOWxjC_VebeF",
        "colab_type": "text"
      },
      "source": [
        "## Types\n",
        "\n",
        "![NumPy Array Types](../images/numpy-types1.jpg)"
      ]
    },
    {
      "cell_type": "markdown",
      "metadata": {
        "id": "btgQ4llIebeF",
        "colab_type": "text"
      },
      "source": [
        "`ndarray` is also known by the alias `array`. Note that `numpy.array` is not the same as the Standard Python Library class `array.array`, which only handles one-dimensional arrays and offers less functionality. The more important attributes of an `ndarray` object are:\n",
        "\n",
        "***ndarray.ndim***\n",
        "the number of axes (dimensions) of the array. In the Python world, the number of dimensions is referred to as rank.\n",
        "\n",
        "***ndarray.shape***\n",
        "the dimensions of the array. This is a tuple of integers indicating the size of the array in each dimension. For a matrix with n rows and m columns, `shape` will be `(n,m)`. The length of the `shape` tuple is therefore the rank, or number of dimensions,`ndim`.\n",
        "\n",
        "***ndarray.size***\n",
        "the total number of elements of the array. This is equal to the product of the elements of shape.\n",
        "\n",
        "***ndarray.dtype***\n",
        "an object describing the type of the elements in the array. One can create or specify dtype’s using standard Python types. Additionally NumPy provides types of its own. numpy.int32, numpy.int16, and numpy.float64 are some examples.\n",
        "\n",
        "***ndarray.reshape***\n",
        "Returns an array containing the same data with a new shape."
      ]
    },
    {
      "cell_type": "markdown",
      "metadata": {
        "id": "HCZtxDlkebeG",
        "colab_type": "text"
      },
      "source": [
        "<img src=\"../images/icon/Technical-Stuff.png\" alt=\"Technical-Stuff\" style=\"width: 100px;float:left; margin-right:15px\"/>\n",
        "<br />\n",
        "\n",
        "## numpy.dtype\n",
        "***\n",
        "<br/>\n",
        "The data type or dtype describes the kind of elements that are contained within the array.\n",
        "\n",
        "* **bool**: Boolean values\n",
        "<br/><br/>\n",
        "\n",
        "* **int**: Integer values. Can be int16, int32, or int64.\n",
        "\n",
        "\n",
        "* **float**: Floating point values. Can be float16, float32, or float64.\n",
        "<br/><br/>\n",
        "\n",
        "\n",
        "* **string**: Text. Can be string or unicode (this distinction is greatly simplified in Python 3)"
      ]
    },
    {
      "cell_type": "markdown",
      "metadata": {
        "id": "iQLJSTJ3ebeH",
        "colab_type": "text"
      },
      "source": [
        "<img src=\"../images/icon/ppt-icons.png\" alt=\"ppt-icons\" style=\"width: 100px;float:left; margin-right:15px\"/>\n",
        "<br />\n",
        "\n",
        "## Let's try it ourselves!\n",
        "***\n",
        "### Create a vector from the list [10, 20, 30]. Print the dtype and shape."
      ]
    },
    {
      "cell_type": "code",
      "metadata": {
        "id": "H3ql0Wqq_MMP",
        "colab_type": "code",
        "outputId": "f68fabc5-2623-4bd2-df57-cd515c4e5f8f",
        "colab": {
          "base_uri": "https://localhost:8080/",
          "height": 200
        }
      },
      "source": [
        "my_vector1=np.ndarray([[10, 20, 30]])\n",
        "print(my_vector1.dtype)\n",
        "print(my_vector1.shape)\n"
      ],
      "execution_count": 0,
      "outputs": [
        {
          "output_type": "error",
          "ename": "TypeError",
          "evalue": "ignored",
          "traceback": [
            "\u001b[0;31m---------------------------------------------------------------------------\u001b[0m",
            "\u001b[0;31mTypeError\u001b[0m                                 Traceback (most recent call last)",
            "\u001b[0;32m<ipython-input-105-c942bd3d83ee>\u001b[0m in \u001b[0;36m<module>\u001b[0;34m()\u001b[0m\n\u001b[0;32m----> 1\u001b[0;31m \u001b[0mmy_vector1\u001b[0m\u001b[0;34m=\u001b[0m\u001b[0mnp\u001b[0m\u001b[0;34m.\u001b[0m\u001b[0mndarray\u001b[0m\u001b[0;34m(\u001b[0m\u001b[0;34m[\u001b[0m\u001b[0;34m[\u001b[0m\u001b[0;36m10\u001b[0m\u001b[0;34m,\u001b[0m \u001b[0;36m20\u001b[0m\u001b[0;34m,\u001b[0m \u001b[0;36m30\u001b[0m\u001b[0;34m]\u001b[0m\u001b[0;34m]\u001b[0m\u001b[0;34m)\u001b[0m\u001b[0;34m\u001b[0m\u001b[0;34m\u001b[0m\u001b[0m\n\u001b[0m\u001b[1;32m      2\u001b[0m \u001b[0mprint\u001b[0m\u001b[0;34m(\u001b[0m\u001b[0mmy_vector1\u001b[0m\u001b[0;34m.\u001b[0m\u001b[0mdtype\u001b[0m\u001b[0;34m)\u001b[0m\u001b[0;34m\u001b[0m\u001b[0;34m\u001b[0m\u001b[0m\n\u001b[1;32m      3\u001b[0m \u001b[0mprint\u001b[0m\u001b[0;34m(\u001b[0m\u001b[0mmy_vector1\u001b[0m\u001b[0;34m.\u001b[0m\u001b[0mshape\u001b[0m\u001b[0;34m)\u001b[0m\u001b[0;34m\u001b[0m\u001b[0;34m\u001b[0m\u001b[0m\n",
            "\u001b[0;31mTypeError\u001b[0m: 'list' object cannot be interpreted as an integer"
          ]
        }
      ]
    },
    {
      "cell_type": "code",
      "metadata": {
        "id": "Tmd94vf2ELsw",
        "colab_type": "code",
        "outputId": "712ef1f4-6a46-4914-b1e0-5f0df2bd9363",
        "colab": {
          "base_uri": "https://localhost:8080/",
          "height": 898
        }
      },
      "source": [
        "vector1=np.array([10, 20, 30]) \n",
        "vector2=np.ndarray([10, 20, 30]) \n",
        "\n",
        "print(vector1)\n",
        "print(\"=\"*30)\n",
        "print(vector2)"
      ],
      "execution_count": 0,
      "outputs": [
        {
          "output_type": "stream",
          "text": [
            "[10 20 30]\n",
            "==============================\n",
            "[[[0. 0. 0. ... 0. 0. 0.]\n",
            "  [0. 0. 0. ... 0. 0. 0.]\n",
            "  [0. 0. 0. ... 0. 0. 0.]\n",
            "  ...\n",
            "  [0. 0. 0. ... 0. 0. 0.]\n",
            "  [0. 0. 0. ... 0. 0. 0.]\n",
            "  [0. 0. 0. ... 0. 0. 0.]]\n",
            "\n",
            " [[0. 0. 0. ... 0. 0. 0.]\n",
            "  [0. 0. 0. ... 0. 0. 0.]\n",
            "  [0. 0. 0. ... 0. 0. 0.]\n",
            "  ...\n",
            "  [0. 0. 0. ... 0. 0. 0.]\n",
            "  [0. 0. 0. ... 0. 0. 0.]\n",
            "  [0. 0. 0. ... 0. 0. 0.]]\n",
            "\n",
            " [[0. 0. 0. ... 0. 0. 0.]\n",
            "  [0. 0. 0. ... 0. 0. 0.]\n",
            "  [0. 0. 0. ... 0. 0. 0.]\n",
            "  ...\n",
            "  [0. 0. 0. ... 0. 0. 0.]\n",
            "  [0. 0. 0. ... 0. 0. 0.]\n",
            "  [0. 0. 0. ... 0. 0. 0.]]\n",
            "\n",
            " ...\n",
            "\n",
            " [[0. 0. 0. ... 0. 0. 0.]\n",
            "  [0. 0. 0. ... 0. 0. 0.]\n",
            "  [0. 0. 0. ... 0. 0. 0.]\n",
            "  ...\n",
            "  [0. 0. 0. ... 0. 0. 0.]\n",
            "  [0. 0. 0. ... 0. 0. 0.]\n",
            "  [0. 0. 0. ... 0. 0. 0.]]\n",
            "\n",
            " [[0. 0. 0. ... 0. 0. 0.]\n",
            "  [0. 0. 0. ... 0. 0. 0.]\n",
            "  [0. 0. 0. ... 0. 0. 0.]\n",
            "  ...\n",
            "  [0. 0. 0. ... 0. 0. 0.]\n",
            "  [0. 0. 0. ... 0. 0. 0.]\n",
            "  [0. 0. 0. ... 0. 0. 0.]]\n",
            "\n",
            " [[0. 0. 0. ... 0. 0. 0.]\n",
            "  [0. 0. 0. ... 0. 0. 0.]\n",
            "  [0. 0. 0. ... 0. 0. 0.]\n",
            "  ...\n",
            "  [0. 0. 0. ... 0. 0. 0.]\n",
            "  [0. 0. 0. ... 0. 0. 0.]\n",
            "  [0. 0. 0. ... 0. 0. 0.]]]\n"
          ],
          "name": "stdout"
        }
      ]
    },
    {
      "cell_type": "markdown",
      "metadata": {
        "id": "GaDNphoHebeK",
        "colab_type": "text"
      },
      "source": [
        "<img src=\"../images/icon/ppt-icons.png\" alt=\"ppt-icons\" style=\"width: 100px;float:left; margin-right:15px\"/>\n",
        "<br />\n",
        "\n",
        "### Create a matrix from the list of lists [[5.3, 10.2, 15.1], [20.4, 25.3, 30.9], [35.4, 40.1, 45.6]]. Print the dtype and shape. \n",
        "***"
      ]
    },
    {
      "cell_type": "code",
      "metadata": {
        "ExecuteTime": {
          "end_time": "2017-09-25T07:26:00.859219Z",
          "start_time": "2017-09-25T07:26:00.852623Z"
        },
        "id": "AyIS9FYlebeL",
        "colab_type": "code",
        "outputId": "96bef724-47f9-476f-e343-b31f2773897f",
        "colab": {
          "base_uri": "https://localhost:8080/",
          "height": 69
        }
      },
      "source": [
        "matx=np.array([[5.3, 10.2, 15.1], [20.4, 25.3, 30.9], [35.4, 40.1, 45.6]])\n",
        "matx"
      ],
      "execution_count": 0,
      "outputs": [
        {
          "output_type": "execute_result",
          "data": {
            "text/plain": [
              "array([[ 5.3, 10.2, 15.1],\n",
              "       [20.4, 25.3, 30.9],\n",
              "       [35.4, 40.1, 45.6]])"
            ]
          },
          "metadata": {
            "tags": []
          },
          "execution_count": 96
        }
      ]
    },
    {
      "cell_type": "markdown",
      "metadata": {
        "id": "jm9a2N_YebeN",
        "colab_type": "text"
      },
      "source": [
        "<img src=\"../images/icon/Concept-Alert.png\" alt=\"Concept-Alert\" style=\"width: 100px;float:left; margin-right:15px\"/>\n",
        "<br />\n",
        "\n",
        "## Indexing and Selection\n",
        "***\n",
        "Basic slicing extends Python's basic concept of slicing to N dimensions. Basic slicing occurs when obj is a :class: slice object (constructed by start:stop:step notation inside of brackets), an integer, or a tuple of slice objects and integers. :const:Ellipsis and :const:newaxis objects can be interspersed with these as well. In order to remain backward compatible with a common usage in Numeric, basic slicing is also initiated if the selection object is any non-ndarray sequence (such as a :class:list) containing :class:slice objects.\n",
        "\n",
        "Let us look at creating an array with numpy and indexing and selection follows from what we have learnt in python"
      ]
    },
    {
      "cell_type": "markdown",
      "metadata": {
        "id": "m29ShYPXebeO",
        "colab_type": "text"
      },
      "source": [
        "### Instructions\n",
        "* Create an array from `0` to `9` using `np.arange()` and save it as `arr`\n",
        "* Print the element at index `5`\n",
        "* Print the elements from `1` to `9` with an interval of `2`"
      ]
    },
    {
      "cell_type": "code",
      "metadata": {
        "id": "5sdgVG1hebeO",
        "colab_type": "code",
        "outputId": "9e902bf6-30be-43cf-ca71-f861040785ef",
        "colab": {
          "base_uri": "https://localhost:8080/",
          "height": 52
        }
      },
      "source": [
        "# indexing one dimensional array\n",
        "a1=np.arange(0,10)\n",
        "\n",
        "# get the element at index 5\n",
        "print(a1[5])\n",
        "\n",
        "#Get values in a range\n",
        "print(a1[0::2])\n",
        "\n"
      ],
      "execution_count": 0,
      "outputs": [
        {
          "output_type": "stream",
          "text": [
            "5\n",
            "[0 2 4 6 8]\n"
          ],
          "name": "stdout"
        }
      ]
    },
    {
      "cell_type": "markdown",
      "metadata": {
        "id": "SslsTzWvebeQ",
        "colab_type": "text"
      },
      "source": [
        "### Instructions\n",
        "* Create a two dimensional array from `1` to `9` and save it as `arr` and print it.\n",
        "* Print 1st row\n",
        "* Print the value of 2nd row and 2nd column\n",
        "* Print the value of 0th row and 2nd column"
      ]
    },
    {
      "cell_type": "code",
      "metadata": {
        "id": "oAa0SpEFebeQ",
        "colab_type": "code",
        "outputId": "fb43736b-3c55-4f90-930d-a9793b4d8476",
        "colab": {
          "base_uri": "https://localhost:8080/",
          "height": 69
        }
      },
      "source": [
        "# indexing two dimensional array\n",
        "arr=np.array(range(1,10)).reshape(3,3)\n",
        "print(arr[0:1,])\n",
        "print(arr[1,2])\n",
        "print(arr[0,2])"
      ],
      "execution_count": 0,
      "outputs": [
        {
          "output_type": "stream",
          "text": [
            "[[1 2 3]]\n",
            "6\n",
            "3\n"
          ],
          "name": "stdout"
        }
      ]
    },
    {
      "cell_type": "markdown",
      "metadata": {
        "id": "bfci48H-ebeT",
        "colab_type": "text"
      },
      "source": [
        "# Analyzing the Weather using NumPy"
      ]
    },
    {
      "cell_type": "markdown",
      "metadata": {
        "id": "i8Da9WN0ebeT",
        "colab_type": "text"
      },
      "source": [
        "<center><img src=\"../images/weather.jpg\" alt=\"Weather\" style=\"width: 350px;\"/></center>\n",
        "Now it's time to use some them to learn data manipulation by analyzing a weather data set. As they say\n",
        "\n",
        "We'll be working with **weather_small_2012.csv**, which contains weather data for each hour in 2012.\n",
        "Since weather_small_2012.csv is a csv file, rows are separated by line breaks, and columns are\n",
        "separated by commas:"
      ]
    },
    {
      "cell_type": "markdown",
      "metadata": {
        "id": "aPEyZWBxebeU",
        "colab_type": "text"
      },
      "source": [
        "```\n",
        "Date/Time,Temp (C),Dew Point Temp (C),Rel Hum (%),Wind Spd (km/h),Visibility (km),Stn Press (kPa)\n",
        "2012-01-01 00:00:00,-1.8,-3.9,86,4,8.0,101.24\n",
        "2012-01-01 01:00:00,-1.8,-3.7,87,4,8.0,101.24\n",
        "2012-01-01 02:00:00,-1.8,-3.4,89,7,4.0,101.26\n",
        "2012-01-01 03:00:00,-1.5,-3.2,88,6,4.0,101.27\n",
        "```\n",
        "\n",
        "**To read csv file, we use:**\n",
        "\n",
        "    numpy.genfromtxt(fileName, delimeter=\",\")"
      ]
    },
    {
      "cell_type": "markdown",
      "metadata": {
        "id": "aKT7rJO3ebeV",
        "colab_type": "text"
      },
      "source": [
        "### Instructions\n",
        "* `weather` variable  is already defined for you with the dataset path\n",
        "* Print the type of the dataset using `.dtype`\n",
        "* Also print the `weather` dataset and have a look at it"
      ]
    },
    {
      "cell_type": "markdown",
      "metadata": {
        "id": "at6jeGg3ebeY",
        "colab_type": "text"
      },
      "source": [
        "Many items in this dataset are nan.\n",
        "\n",
        "* The entire first row is nan – headers are String.\n",
        "* Some of the numbers are written like 1.98600000e+03.\n",
        "\n",
        "The data type of weather is float. Because all of the values in a NumPy array have to have the same\n",
        "data type, NumPy attempted to convert all of the columns to floats when they were read in."
      ]
    },
    {
      "cell_type": "code",
      "metadata": {
        "id": "AjZULhTvJKgv",
        "colab_type": "code",
        "outputId": "d250857f-cab9-4d59-e51e-daa52b869636",
        "colab": {
          "base_uri": "https://localhost:8080/",
          "height": 190
        }
      },
      "source": [
        "import numpy as np\n",
        "# read csv file\n",
        "weather = np.genfromtxt(\"/content/weather_small_2012.csv\", delimiter=\",\",skip_header=1)\n",
        "print(weather)\n",
        "print(weather.shape)\n",
        "print(weather.ndim)\n",
        "print(weather.dtype)"
      ],
      "execution_count": 0,
      "outputs": [
        {
          "output_type": "stream",
          "text": [
            "[[   nan  -1.8   -3.9  ...   4.     8.   101.24]\n",
            " [   nan  -1.8   -3.7  ...   4.     8.   101.24]\n",
            " [   nan  -1.8   -3.4  ...   7.     4.   101.26]\n",
            " ...\n",
            " [   nan  -0.5   -1.5  ...  28.     4.8   99.95]\n",
            " [   nan  -0.2   -1.8  ...  28.     9.7   99.91]\n",
            " [   nan   0.    -2.1  ...  30.    11.3   99.89]]\n",
            "(8784, 7)\n",
            "2\n",
            "float64\n"
          ],
          "name": "stdout"
        }
      ]
    },
    {
      "cell_type": "markdown",
      "metadata": {
        "id": "wgLoMxkBebeZ",
        "colab_type": "text"
      },
      "source": [
        "**Reading In The Data Properly**\n",
        "\n",
        "***\n",
        "To read weather_small_2012.csv file properly we will have to use correct data type and skip the header.\n",
        "* genfromtxt() default dtype is float, it converts non-numeric value to nan (not a number)\n",
        "* To avoid nan, we read values as |S20 (String of length 20) "
      ]
    },
    {
      "cell_type": "markdown",
      "metadata": {
        "id": "Ml2xyoyTebeZ",
        "colab_type": "text"
      },
      "source": [
        "### Instructions\n",
        "* Read the Weather data using `np.genfromtxt()` by passing parameters as `path of the dataset`,`dtype='|S20'`, `skip_header=1`, `delimiter=\",\"`\n",
        "* Print the value of first index of the dataset"
      ]
    },
    {
      "cell_type": "code",
      "metadata": {
        "ExecuteTime": {
          "end_time": "2017-09-25T09:25:43.473340Z",
          "start_time": "2017-09-25T09:25:43.385551Z"
        },
        "id": "Rgb1_RSXebea",
        "colab_type": "code",
        "outputId": "0cd450eb-878b-4b40-94a3-ea6f8e2a2f3b",
        "colab": {
          "base_uri": "https://localhost:8080/",
          "height": 190
        }
      },
      "source": [
        "weather= np.genfromtxt(\"/content/weather_small_2012.csv\", delimiter=\",\",skip_header=1,dtype=\"|S20\")\n",
        "print(weather.dtype)\n",
        "print(weather.shape)"
      ],
      "execution_count": 0,
      "outputs": [
        {
          "output_type": "stream",
          "text": [
            "|S20\n",
            "(8784, 7)\n",
            "[[1 2 3]\n",
            " [4 5 6]\n",
            " [7 8 9]]\n",
            "[[1 2 3]\n",
            " [7 8 9]]\n",
            "[[1 2 3]\n",
            " [4 5 6]\n",
            " [7 8 9]]\n"
          ],
          "name": "stdout"
        }
      ]
    },
    {
      "cell_type": "markdown",
      "metadata": {
        "id": "5RdUlPCFebec",
        "colab_type": "text"
      },
      "source": [
        "### Instructions\n",
        "* Create an array of temperature and convert it into float16 using `.astype(np.float16)` and save it as `temperatures`.\n",
        "* Create an array of dew point temperature and convert it into float16 using `.astype(np.float16)` and save it as `dew_point_temperatures`.\n"
      ]
    },
    {
      "cell_type": "code",
      "metadata": {
        "id": "c57vAjE7PqRb",
        "colab_type": "code",
        "outputId": "90759e55-e95b-49ae-fc44-5473f9d31b53",
        "colab": {
          "base_uri": "https://localhost:8080/",
          "height": 52
        }
      },
      "source": [
        "# Create an array of temperatures from the data set\n",
        "\n",
        "temperatures = weather[:,1].astype(np.float16)\n",
        "print(temperature)\n",
        "\n",
        "dew_point_temperatures=weather[:,2].astype(np.float16)\n",
        "print(dew_point_temperatures)"
      ],
      "execution_count": 0,
      "outputs": [
        {
          "output_type": "stream",
          "text": [
            "[-1.8 -1.8 -1.8 ... -0.5 -0.2  0. ]\n",
            "[-3.9 -3.7 -3.4 ... -1.5 -1.8 -2.1]\n"
          ],
          "name": "stdout"
        }
      ]
    },
    {
      "cell_type": "markdown",
      "metadata": {
        "id": "WICka9psebef",
        "colab_type": "text"
      },
      "source": [
        "<img src=\"../images/icon/Concept-Alert.png\" alt=\"Concept-Alert\" style=\"width: 100px;float:left; margin-right:15px\"/>\n",
        "<br />\n",
        "\n",
        "# Operations with NumPy arrays\n",
        "***\n",
        "NumPy provides a lot of built-in functionality for working with arrays.\n",
        "**The important concepts to remember are**\n",
        "- Any operation with a scalar number or a scalar function will cause that operation being computed for each element\n",
        "- Any operation with two **compatible** (eg.: same shape) arrays will cause one-to-one element computations"
      ]
    },
    {
      "cell_type": "markdown",
      "metadata": {
        "id": "B66-iwJfebeg",
        "colab_type": "text"
      },
      "source": [
        "<img src=\"../images/icon/Maths-Insight.png\" alt=\"Technical-Stuff\" style=\"width: 100px;float:left; margin-right:15px\"/>\n",
        "<br />\n",
        "\n",
        "## Arithmetic (1/2)\n",
        "***\n",
        "### Vector Arithmetic\n",
        "- All operations between arrays are **element-wise**\n",
        "- This means that if you multiply two 2d vectors, it will **NOT** perform matrix multiplication"
      ]
    },
    {
      "cell_type": "markdown",
      "metadata": {
        "id": "9h9-lP7mebeh",
        "colab_type": "text"
      },
      "source": [
        "<img src=\"../images/icon/Maths-Insight.png\" alt=\"Technical-Stuff\" style=\"width: 100px;float:left; margin-right:15px\"/>\n",
        "<br />\n",
        "\n",
        "## Arithmetic (2/2)\n",
        "***\n",
        "### Scalar Arithmetic\n",
        "- Any operation of an array with a scalar will result in **element-wise** computation of that operation\n",
        "- For example **`my_array + 2`** is the same as adding 2 to each element of array"
      ]
    },
    {
      "cell_type": "markdown",
      "metadata": {
        "ExecuteTime": {
          "end_time": "2017-09-25T08:07:19.926011Z",
          "start_time": "2017-09-25T08:07:19.915816Z"
        },
        "id": "DtvEDIQrebei",
        "colab_type": "text"
      },
      "source": [
        "### Instructions\n",
        "* Calculate the Temperatures from the weather dataset in Farenheit"
      ]
    },
    {
      "cell_type": "code",
      "metadata": {
        "ExecuteTime": {
          "end_time": "2017-09-25T09:40:35.470263Z",
          "start_time": "2017-09-25T09:40:35.458876Z"
        },
        "id": "XhRM4neWebei",
        "colab_type": "code",
        "colab": {}
      },
      "source": [
        ""
      ],
      "execution_count": 0,
      "outputs": []
    },
    {
      "cell_type": "markdown",
      "metadata": {
        "ExecuteTime": {
          "end_time": "2017-09-25T08:07:19.926011Z",
          "start_time": "2017-09-25T08:07:19.915816Z"
        },
        "id": "_G5hw8zNebel",
        "colab_type": "text"
      },
      "source": [
        "### Addition\n",
        "\n",
        "### Instructions\n",
        "* Print Vector Addition of `temperatures` and `dew_point_temperatures`\n",
        "* Print Scalar Addition of `temperatures` + 100"
      ]
    },
    {
      "cell_type": "code",
      "metadata": {
        "ExecuteTime": {
          "end_time": "2017-09-25T09:43:50.347562Z",
          "start_time": "2017-09-25T09:43:50.337963Z"
        },
        "id": "tL69Rulgebem",
        "colab_type": "code",
        "outputId": "5c0fd166-a2c8-482c-f10a-287b9920b2f1",
        "colab": {
          "base_uri": "https://localhost:8080/",
          "height": 52
        }
      },
      "source": [
        "# Total temperature\n",
        "\n",
        "# Vector Addition\n",
        "print(np.add(temperatures,dew_point_temperatures))\n",
        "\n",
        "# Scalar Addition\n",
        "print(temperatures+100)"
      ],
      "execution_count": 0,
      "outputs": [
        {
          "output_type": "stream",
          "text": [
            "[-5.7 -5.5 -5.2 ... -2.  -2.  -2.1]\n",
            "[ 98.2  98.2  98.2 ...  99.5  99.8 100. ]\n"
          ],
          "name": "stdout"
        }
      ]
    },
    {
      "cell_type": "markdown",
      "metadata": {
        "ExecuteTime": {
          "end_time": "2017-09-25T08:07:19.926011Z",
          "start_time": "2017-09-25T08:07:19.915816Z"
        },
        "id": "kvq0fzCvebeo",
        "colab_type": "text"
      },
      "source": [
        "### Division\n",
        "### Instructions\n",
        "* Create an array from `1` to `10` using `np.arange()` and passing parameter as `dtype=np.float16` and reshape it in 3 X 3 matrix and save it as `array1`\n",
        "* Create an array from `100` to `109` using `np.arange()` and passing parameter as `dtype=np.float16` and reshape it in 3 X 3 matrix and save it as `array2`\n",
        "* Perform Vector Division by dividing `array2` by `array1`\n",
        "* Perform Scalar Division by dividing `array2` by `3`"
      ]
    },
    {
      "cell_type": "code",
      "metadata": {
        "ExecuteTime": {
          "end_time": "2017-09-25T08:29:55.596219Z",
          "start_time": "2017-09-25T08:29:55.575775Z"
        },
        "id": "8mgU3dxFebep",
        "colab_type": "code",
        "outputId": "a8940f7c-cecb-44e3-ca0a-024662876cd3",
        "colab": {
          "base_uri": "https://localhost:8080/",
          "height": 121
        }
      },
      "source": [
        "array1=np.arange(1,10,dtype=np.float16).reshape(3,3)\n",
        "array2=np.arange(100,109,dtype=np.float16).reshape(3,3)\n",
        "\n",
        "# Vector Division\n",
        "print(array2 /array1)\n",
        "# Scalar Division\n",
        "print(array2 / 3)\n"
      ],
      "execution_count": 0,
      "outputs": [
        {
          "output_type": "stream",
          "text": [
            "[[100.     50.5    34.   ]\n",
            " [ 25.75   20.8    17.5  ]\n",
            " [ 15.14   13.375  12.   ]]\n",
            "[[33.34 33.66 34.  ]\n",
            " [34.34 34.66 35.  ]\n",
            " [35.34 35.66 36.  ]]\n"
          ],
          "name": "stdout"
        }
      ]
    },
    {
      "cell_type": "markdown",
      "metadata": {
        "id": "7R-Frmv2eber",
        "colab_type": "text"
      },
      "source": [
        "## Comparison\n",
        "\n",
        "Comparing two numpy arrays for equality, element-wise"
      ]
    },
    {
      "cell_type": "markdown",
      "metadata": {
        "id": "jqKcNurxebes",
        "colab_type": "text"
      },
      "source": [
        "### Instructions\n",
        "* Find `temperatures` that are above `0` degree celcius and save it as `greater_than_0`\n",
        "* Print `temperatures` and `greater_than_0`\n",
        "* Print type of `greater_than_0` using `type()`\n",
        "* Print type of `greater_than_0` using `.dtype`"
      ]
    },
    {
      "cell_type": "code",
      "metadata": {
        "ExecuteTime": {
          "end_time": "2017-09-25T09:48:03.450206Z",
          "start_time": "2017-09-25T09:48:03.438867Z"
        },
        "id": "zz6nnc2qebes",
        "colab_type": "code",
        "outputId": "87daad7f-787c-4341-f817-02b92b7826f7",
        "colab": {
          "base_uri": "https://localhost:8080/",
          "height": 69
        }
      },
      "source": [
        "# Find those temperatures that are above 0 degrees Celcius\n",
        "greater_than_0 = temperatures[temperatures > 0]\n",
        "print(greater_than_0)\n",
        "print(type(greater_than_0))\n",
        "print(greater_than_0.dtype)\n"
      ],
      "execution_count": 0,
      "outputs": [
        {
          "output_type": "stream",
          "text": [
            "[0.2 0.8 1.8 ... 0.6 0.1 0.2]\n",
            "<class 'numpy.ndarray'>\n",
            "float16\n"
          ],
          "name": "stdout"
        }
      ]
    },
    {
      "cell_type": "markdown",
      "metadata": {
        "id": "Gg8D8Hwkebeu",
        "colab_type": "text"
      },
      "source": [
        "### Instructions\n",
        "* Create 3 X 3 matrix using `1` to `9` numbers and save it as `arr`\n",
        "* Check the condition for `2` or `5` in `arr` and save it as `two_or_five` and print it."
      ]
    },
    {
      "cell_type": "code",
      "metadata": {
        "ExecuteTime": {
          "end_time": "2017-09-25T09:50:53.579147Z",
          "start_time": "2017-09-25T09:50:53.570758Z"
        },
        "id": "7_f69c0Gebeu",
        "colab_type": "code",
        "outputId": "dc27ef2e-b2cf-440f-e30a-efb63c3f166e",
        "colab": {
          "base_uri": "https://localhost:8080/",
          "height": 200
        }
      },
      "source": [
        "# multiple conditions\n",
        "arr = np.arange(1,10).reshape(3,3)\n",
        "two_or_five = (arr == 2 | arr == 5) \n",
        "print(two_or_five)\n"
      ],
      "execution_count": 188,
      "outputs": [
        {
          "output_type": "error",
          "ename": "ValueError",
          "evalue": "ignored",
          "traceback": [
            "\u001b[0;31m---------------------------------------------------------------------------\u001b[0m",
            "\u001b[0;31mValueError\u001b[0m                                Traceback (most recent call last)",
            "\u001b[0;32m<ipython-input-188-36611bcdabe9>\u001b[0m in \u001b[0;36m<module>\u001b[0;34m()\u001b[0m\n\u001b[1;32m      1\u001b[0m \u001b[0marr\u001b[0m \u001b[0;34m=\u001b[0m \u001b[0mnp\u001b[0m\u001b[0;34m.\u001b[0m\u001b[0marange\u001b[0m\u001b[0;34m(\u001b[0m\u001b[0;36m1\u001b[0m\u001b[0;34m,\u001b[0m\u001b[0;36m10\u001b[0m\u001b[0;34m)\u001b[0m\u001b[0;34m.\u001b[0m\u001b[0mreshape\u001b[0m\u001b[0;34m(\u001b[0m\u001b[0;36m3\u001b[0m\u001b[0;34m,\u001b[0m\u001b[0;36m3\u001b[0m\u001b[0;34m)\u001b[0m\u001b[0;34m\u001b[0m\u001b[0;34m\u001b[0m\u001b[0m\n\u001b[0;32m----> 2\u001b[0;31m \u001b[0mtwo_or_five\u001b[0m \u001b[0;34m=\u001b[0m \u001b[0;34m(\u001b[0m\u001b[0marr\u001b[0m \u001b[0;34m==\u001b[0m \u001b[0;36m2\u001b[0m \u001b[0;34m|\u001b[0m \u001b[0marr\u001b[0m \u001b[0;34m==\u001b[0m \u001b[0;36m5\u001b[0m\u001b[0;34m)\u001b[0m\u001b[0;34m\u001b[0m\u001b[0;34m\u001b[0m\u001b[0m\n\u001b[0m\u001b[1;32m      3\u001b[0m \u001b[0mprint\u001b[0m\u001b[0;34m(\u001b[0m\u001b[0mtwo_or_five\u001b[0m\u001b[0;34m)\u001b[0m\u001b[0;34m\u001b[0m\u001b[0;34m\u001b[0m\u001b[0m\n",
            "\u001b[0;31mValueError\u001b[0m: The truth value of an array with more than one element is ambiguous. Use a.any() or a.all()"
          ]
        }
      ]
    },
    {
      "cell_type": "markdown",
      "metadata": {
        "id": "Sg9qKCooebew",
        "colab_type": "text"
      },
      "source": [
        "<img src=\"../images/icon/Technical-Stuff.png\" alt=\"Concept-Alert\" style=\"width: 100px;float:left; margin-right:15px\"/>\n",
        "<br />\n",
        "\n",
        "## Aggregation \n",
        "***\n",
        "* **`sum()`:** Computes the sum of all the elements in a vector, or the sum along a dimension in a matrix.\n",
        "* **`mean()`:** Computes the average of all the elements in a vector, or the average along a dimension in a matrix.\n",
        "* **`max()`/`min()`:** Identifies the maximum/minimum value among all the elements in a vector, or along a dimension in a matrix.\n",
        "* **`argmax()`/`argmin()`:** Returns the index of maximum/minimum element."
      ]
    },
    {
      "cell_type": "markdown",
      "metadata": {
        "id": "oksvxQJRebew",
        "colab_type": "text"
      },
      "source": [
        "### Instructions\n",
        "* Find Max temperature using `.max()` on `temperatures`\n",
        "* Find Min temperature using `.min()` on `temperatures`\n",
        "* Find Mean temperature using `.mean()` on `temperatures`\n",
        "* Find index of Max temperature using `.argmax()` on `temperatures`\n",
        "* Find index of Min temperature using `.argmin()` on `temperatures`"
      ]
    },
    {
      "cell_type": "code",
      "metadata": {
        "ExecuteTime": {
          "end_time": "2017-09-25T09:53:11.771013Z",
          "start_time": "2017-09-25T09:53:11.757059Z"
        },
        "id": "-KpO7yqOebex",
        "colab_type": "code",
        "colab": {
          "base_uri": "https://localhost:8080/",
          "height": 104
        },
        "outputId": "42917868-7caa-410b-d1de-77778c54204e"
      },
      "source": [
        "# Find max, min, mean temperature\n",
        "print(np.max(temperatures))\n",
        "print(np.min(temperatures))\n",
        "print(np.mean(temperatures))\n",
        "print(np.argmax(temperatures))\n",
        "print(np.argmin(temperatures))\n",
        "\n",
        "# Find index of max/min temperature\n"
      ],
      "execution_count": 187,
      "outputs": [
        {
          "output_type": "stream",
          "text": [
            "33.0\n",
            "-23.3\n",
            "8.8\n",
            "4143\n",
            "344\n"
          ],
          "name": "stdout"
        }
      ]
    },
    {
      "cell_type": "markdown",
      "metadata": {
        "id": "2GIdunk5ebez",
        "colab_type": "text"
      },
      "source": [
        "## Quiz\n",
        "1. Which of these best describes an array?\n",
        "\n",
        "```python\n",
        "a) A data structure that shows a hierarchical behavior\n",
        "b) Container of objects of similar types\n",
        "c) Container of objects of mixed types\n",
        "d) All of the mentioned\n",
        "```\n",
        "2. What gets printed?\n",
        "\n",
        "```python\n",
        "import numpy as np\n",
        "a = np.array([1,2,3,5,8])\n",
        "print (a.ndim)\n",
        "a) 0\n",
        "b) 1 \n",
        "c) 2\n",
        "d) 3\n",
        "e) 5\n",
        "```\n",
        "3. What is the output of the follwing code snippet?\n",
        "\n",
        "```python\n",
        "import numpy as np\n",
        "a = np.arange(12).reshape(3,4)\n",
        "print(a[2,1])\n",
        "```"
      ]
    },
    {
      "cell_type": "markdown",
      "metadata": {
        "id": "gVsu5FHIebez",
        "colab_type": "text"
      },
      "source": [
        "# Further Reading\n",
        "***\n",
        "- Python Official Documentation: https://docs.python.org/\n",
        "- NumPy documentation: http://www.numpy.org/"
      ]
    },
    {
      "cell_type": "markdown",
      "metadata": {
        "id": "iDC06VeLebez",
        "colab_type": "text"
      },
      "source": [
        "# Thank You\n",
        "***\n",
        "### Coming up next...\n",
        "\n",
        "- Data Wrangling with Pandas\n",
        "\n",
        "For more queries - Reach out to academics@greyatom.com "
      ]
    }
  ]
}