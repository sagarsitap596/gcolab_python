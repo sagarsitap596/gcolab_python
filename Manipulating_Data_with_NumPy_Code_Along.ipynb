{
  "nbformat": 4,
  "nbformat_minor": 0,
  "metadata": {
    "kernelspec": {
      "display_name": "Python 3",
      "language": "python",
      "name": "python3"
    },
    "language_info": {
      "codemirror_mode": {
        "name": "ipython",
        "version": 3
      },
      "file_extension": ".py",
      "mimetype": "text/x-python",
      "name": "python",
      "nbconvert_exporter": "python",
      "pygments_lexer": "ipython3",
      "version": "3.6.7"
    },
    "colab": {
      "name": "Manipulating Data with NumPy Code Along.ipynb",
      "version": "0.3.2",
      "provenance": [],
      "toc_visible": true,
      "include_colab_link": true
    }
  },
  "cells": [
    {
      "cell_type": "markdown",
      "metadata": {
        "id": "view-in-github",
        "colab_type": "text"
      },
      "source": [
        "<a href=\"https://colab.research.google.com/github/sagarsitap596/gcolab_python/blob/master/Manipulating_Data_with_NumPy_Code_Along.ipynb\" target=\"_parent\"><img src=\"https://colab.research.google.com/assets/colab-badge.svg\" alt=\"Open In Colab\"/></a>"
      ]
    },
    {
      "cell_type": "markdown",
      "metadata": {
        "id": "Lvti8MOoZeDS",
        "colab_type": "text"
      },
      "source": [
        "# IPL Dataset Analysis\n",
        "\n",
        "## Problem Statement\n",
        "We want to know as to what happens during an IPL match which raises several questions in our mind with our limited knowledge about the game called cricket on which it is based. This analysis is done to know as which factors led one of the team to win and how does it matter."
      ]
    },
    {
      "cell_type": "markdown",
      "metadata": {
        "id": "Bbkqlo8oZeDT",
        "colab_type": "text"
      },
      "source": [
        "## About the Dataset :\n",
        "The Indian Premier League (IPL) is a professional T20 cricket league in India contested during April-May of every year by teams representing Indian cities. It is the most-attended cricket league in the world and ranks sixth among all the sports leagues. It has teams with players from around the world and is very competitive and entertaining with a lot of close matches between teams.\n",
        "\n",
        "The IPL and other cricket related datasets are available at [cricsheet.org](https://cricsheet.org/%c2%a0(data). Feel free to visit the website and explore the data by yourself as exploring new sources of data is one of the interesting activities a data scientist gets to do.\n",
        "\n",
        "## About the dataset:\n",
        "Snapshot of the data you will be working on:<br>\n",
        "<br>\n",
        "The dataset 1452 data points and 23 features<br>\n",
        "\n",
        "|Features|Description|\n",
        "|-----|-----|\n",
        "|match_code|Code pertaining to individual match|\n",
        "|date|Date of the match played|\n",
        "|city|Location where the match was played|\n",
        "|team1|team1|\n",
        "|team2|team2|\n",
        "|toss_winner|Who won the toss out of two teams|\n",
        "|toss_decision|toss decision taken by toss winner|\n",
        "|winner|Winner of that match between two teams|\n",
        "|win_type|How did the team won(by wickets or runs etc.)|\n",
        "|win_margin|difference with which the team won| \n",
        "|inning|inning type(1st or 2nd)|\n",
        "|delivery|ball delivery|\n",
        "|batting_team|current team on batting|\n",
        "|batsman|current batsman on strike|\n",
        "|non_striker|batsman on non-strike|\n",
        "|bowler|Current bowler|\n",
        "|runs|runs scored|\n",
        "|extras|extra run scored|\n",
        "|total|total run scored on that delivery including runs and extras|\n",
        "|extras_type|extra run scored by wides or no ball or legby|\n",
        "|player_out|player that got out|\n",
        "|wicket_kind|How did the player got out|\n",
        "|wicket_fielders|Fielder who caught out the player by catch|\n"
      ]
    },
    {
      "cell_type": "markdown",
      "metadata": {
        "id": "JoD7172QZeDU",
        "colab_type": "text"
      },
      "source": [
        "### Analysing data using numpy module"
      ]
    },
    {
      "cell_type": "markdown",
      "metadata": {
        "id": "WaYP0wUKZeDV",
        "colab_type": "text"
      },
      "source": [
        "### Read the data using numpy module."
      ]
    },
    {
      "cell_type": "code",
      "metadata": {
        "id": "x_LQcXEyZeDV",
        "colab_type": "code",
        "colab": {}
      },
      "source": [
        "import numpy as np\n",
        "# Not every data format will be in csv there are other file formats also.\n",
        "# This exercise will help you deal with other file formats and how toa read it.\n",
        "path = '/content/ipl_matches_small.csv'\n",
        "data_ipl = np.genfromtxt(path, delimiter=',', skip_header=1, dtype=str)\n",
        "\n"
      ],
      "execution_count": 0,
      "outputs": []
    },
    {
      "cell_type": "code",
      "metadata": {
        "id": "rQc1vE4tZeDZ",
        "colab_type": "code",
        "colab": {
          "base_uri": "https://localhost:8080/",
          "height": 69
        },
        "outputId": "99eebc44-9384-419d-cd1d-949db1ea3d70"
      },
      "source": [
        "data_ipl[:,3]"
      ],
      "execution_count": 3,
      "outputs": [
        {
          "output_type": "execute_result",
          "data": {
            "text/plain": [
              "array(['Kolkata Knight Riders', 'Kolkata Knight Riders',\n",
              "       'Kolkata Knight Riders', ..., 'Rajasthan Royals',\n",
              "       'Rajasthan Royals', 'Rajasthan Royals'], dtype='<U21')"
            ]
          },
          "metadata": {
            "tags": []
          },
          "execution_count": 3
        }
      ]
    },
    {
      "cell_type": "markdown",
      "metadata": {
        "id": "uZOR1kFkZeDc",
        "colab_type": "text"
      },
      "source": [
        "### Calculate the unique no. of matches in the provided dataset ?"
      ]
    },
    {
      "cell_type": "code",
      "metadata": {
        "id": "yEZHhdgoZeDd",
        "colab_type": "code",
        "colab": {
          "base_uri": "https://localhost:8080/",
          "height": 52
        },
        "outputId": "044364cf-9c28-440c-a0dc-7b9d3076c15c"
      },
      "source": [
        "# How many matches were held in total we need to know so that we can analyze further statistics keeping that in mind.\n",
        "print(len(set(data_ipl[:,0])))\n",
        "print(np.unique(data_ipl[:,0]))"
      ],
      "execution_count": 26,
      "outputs": [
        {
          "output_type": "stream",
          "text": [
            "6\n",
            "['335987' '392197' '392203' '392212' '501226' '729297']\n"
          ],
          "name": "stdout"
        }
      ]
    },
    {
      "cell_type": "markdown",
      "metadata": {
        "id": "ZknhqodnZeDf",
        "colab_type": "text"
      },
      "source": [
        "### Find the set of all unique teams that played in the matches in the data set."
      ]
    },
    {
      "cell_type": "code",
      "metadata": {
        "id": "P-pRwSdeZeDg",
        "colab_type": "code",
        "colab": {
          "base_uri": "https://localhost:8080/",
          "height": 193
        },
        "outputId": "b709a9bf-e5e6-406f-9f4e-7cb3483b1b21"
      },
      "source": [
        "# this exercise deals with you getting to know that which are all those six teams that played in the tournament.\n",
        "print(set(np.concatenate((data_ipl[:,3],data_ipl[:,4]),axis=None)))\n",
        "print(set(data_ipl[:,3]).union(set(data_ipl[:,4])))\n",
        "print(np.unique(np.concatenate((data_ipl[:,3],data_ipl[:,4]),axis=None)))\n",
        "print(np.unique(data_ipl[:,3:5]))\n",
        "print(len(np.unique(data_ipl[:,3:5])))"
      ],
      "execution_count": 31,
      "outputs": [
        {
          "output_type": "stream",
          "text": [
            "{'Deccan Chargers', 'Rajasthan Royals', 'Chennai Super Kings', 'Kolkata Knight Riders', 'Kings XI Punjab', 'Pune Warriors', 'Mumbai Indians'}\n",
            "{'Deccan Chargers', 'Rajasthan Royals', 'Chennai Super Kings', 'Kolkata Knight Riders', 'Kings XI Punjab', 'Pune Warriors', 'Mumbai Indians'}\n",
            "['Chennai Super Kings' 'Deccan Chargers' 'Kings XI Punjab'\n",
            " 'Kolkata Knight Riders' 'Mumbai Indians' 'Pune Warriors'\n",
            " 'Rajasthan Royals']\n",
            "['Chennai Super Kings' 'Deccan Chargers' 'Kings XI Punjab'\n",
            " 'Kolkata Knight Riders' 'Mumbai Indians' 'Pune Warriors'\n",
            " 'Rajasthan Royals']\n",
            "7\n"
          ],
          "name": "stdout"
        }
      ]
    },
    {
      "cell_type": "code",
      "metadata": {
        "id": "xWgwjuS6ZeDi",
        "colab_type": "code",
        "colab": {}
      },
      "source": [
        ""
      ],
      "execution_count": 0,
      "outputs": []
    },
    {
      "cell_type": "markdown",
      "metadata": {
        "id": "y8_DpLUVZeDk",
        "colab_type": "text"
      },
      "source": [
        "### Find sum of all extras in all deliveries in all matches in the dataset"
      ]
    },
    {
      "cell_type": "code",
      "metadata": {
        "id": "JAM9i1RDZeDk",
        "colab_type": "code",
        "colab": {
          "base_uri": "https://localhost:8080/",
          "height": 52
        },
        "outputId": "aa236d19-6cee-44c0-f965-ce4672e1ab6e"
      },
      "source": [
        "# An exercise to make you familiar with indexing and slicing up within data.\n",
        "print(data_ipl[:,17])\n",
        "np.sum(data_ipl[:,17].astype(np.int))"
      ],
      "execution_count": 34,
      "outputs": [
        {
          "output_type": "stream",
          "text": [
            "['1' '0' '1' ... '0' '0' '0']\n"
          ],
          "name": "stdout"
        },
        {
          "output_type": "execute_result",
          "data": {
            "text/plain": [
              "88"
            ]
          },
          "metadata": {
            "tags": []
          },
          "execution_count": 34
        }
      ]
    },
    {
      "cell_type": "markdown",
      "metadata": {
        "id": "tyU0JmHaZeDm",
        "colab_type": "text"
      },
      "source": [
        "### Get the array of all delivery numbers when a given player got out. Also mention the wicket type."
      ]
    },
    {
      "cell_type": "code",
      "metadata": {
        "id": "JArjQv4_ZeDn",
        "colab_type": "code",
        "colab": {
          "base_uri": "https://localhost:8080/",
          "height": 242
        },
        "outputId": "9e7e1cbc-06c8-4b0f-af3c-edd2acd3b56b"
      },
      "source": [
        "d=data_ipl[data_ipl[:,20] != '']\n",
        "print(d[:,11])\n",
        "print(d[:,21])"
      ],
      "execution_count": 50,
      "outputs": [
        {
          "output_type": "stream",
          "text": [
            "84\n",
            "['caught' 'caught' 'caught' 'bowled' 'caught' 'caught' 'bowled' 'bowled'\n",
            " 'caught' 'bowled' 'run out' 'caught' 'lbw' 'caught' 'caught' 'run out'\n",
            " 'caught' 'caught' 'caught' 'caught' 'bowled' 'caught' 'caught' 'caught'\n",
            " 'caught' 'bowled' 'bowled' 'caught' 'caught' 'bowled' 'bowled' 'caught'\n",
            " 'run out' 'caught' 'bowled' 'caught' 'caught' 'bowled' 'bowled' 'caught'\n",
            " 'stumped' 'caught' 'caught' 'caught' 'run out' 'caught' 'caught'\n",
            " 'run out' 'caught' 'caught' 'caught and bowled' 'caught' 'caught'\n",
            " 'caught' 'bowled' 'caught' 'run out' 'caught' 'bowled' 'stumped' 'caught'\n",
            " 'caught' 'caught' 'bowled' 'bowled' 'bowled' 'bowled' 'caught' 'caught'\n",
            " 'run out' 'run out' 'caught' 'bowled' 'caught and bowled' 'stumped' 'lbw'\n",
            " 'lbw' 'bowled' 'caught' 'run out' 'caught' 'caught and bowled' 'caught'\n",
            " 'lbw']\n"
          ],
          "name": "stdout"
        }
      ]
    },
    {
      "cell_type": "code",
      "metadata": {
        "id": "Rlf7eshLZeDo",
        "colab_type": "code",
        "colab": {}
      },
      "source": [
        ""
      ],
      "execution_count": 0,
      "outputs": []
    },
    {
      "cell_type": "markdown",
      "metadata": {
        "id": "c82S6hZGZeDr",
        "colab_type": "text"
      },
      "source": [
        "### How many matches the team `Mumbai Indians` has won the toss?"
      ]
    },
    {
      "cell_type": "code",
      "metadata": {
        "id": "Ihagxtd5ZeDr",
        "colab_type": "code",
        "colab": {
          "base_uri": "https://localhost:8080/",
          "height": 35
        },
        "outputId": "e4f34761-04fb-425a-f47f-9836a1819bd9"
      },
      "source": [
        "# this exercise will help you get the statistics on one particular team\n",
        "print(len(data_ipl[data_ipl[:,5] == 'Mumbai Indians']))"
      ],
      "execution_count": 48,
      "outputs": [
        {
          "output_type": "stream",
          "text": [
            "472\n"
          ],
          "name": "stdout"
        }
      ]
    },
    {
      "cell_type": "markdown",
      "metadata": {
        "id": "yVrR7zA2ZeDu",
        "colab_type": "text"
      },
      "source": [
        "### Create a filter that filters only those records where the batsman scored 6 runs. Also who has scored the maximum no. of sixes overall ?"
      ]
    },
    {
      "cell_type": "code",
      "metadata": {
        "id": "SFXl8xswZeDu",
        "colab_type": "code",
        "colab": {
          "base_uri": "https://localhost:8080/",
          "height": 155
        },
        "outputId": "60fa6351-5cc8-4227-b409-77c1df946aac"
      },
      "source": [
        "# An exercise to know who is the most aggresive player or maybe the scoring player \n",
        "most_six = data_ipl[data_ipl[:,16] == '6']\n",
        "batsmans = most_six[:,13]\n",
        "\n",
        "batsman, sixes = np.unique(batsmans, return_counts=True)\n",
        "print(batsman)\n",
        "print(sixes)\n",
        "print(batsman[np.argmax(sixes)])"
      ],
      "execution_count": 53,
      "outputs": [
        {
          "output_type": "stream",
          "text": [
            "['AC Gilchrist' 'BJ Hodge' 'CH Gayle' 'DR Smith' 'DS Kulkarni'\n",
            " 'Harbhajan Singh' 'IK Pathan' 'JD Ryder' 'JP Duminy' 'K Goel'\n",
            " 'KC Sangakkara' 'Kamran Akmal' 'M Manhas' 'M Vijay' 'MEK Hussey'\n",
            " 'MS Dhoni' 'PR Shah' 'R Bhatia' 'RA Jadeja' 'RG Sharma' 'RR Raje'\n",
            " 'S Badrinath' 'SC Ganguly' 'SR Tendulkar' 'SR Watson' 'ST Jayasuriya'\n",
            " 'SV Samson' 'TL Suman' 'Y Venugopal Rao' 'Yuvraj Singh']\n",
            "[1 3 1 4 2 2 1 1 4 2 1 1 1 1 1 1 2 1 1 1 1 1 1 6 6 4 2 2 1 3]\n",
            "SR Tendulkar\n"
          ],
          "name": "stdout"
        }
      ]
    },
    {
      "cell_type": "code",
      "metadata": {
        "id": "eZWIbyVmZeDw",
        "colab_type": "code",
        "colab": {}
      },
      "source": [
        ""
      ],
      "execution_count": 0,
      "outputs": []
    }
  ]
}