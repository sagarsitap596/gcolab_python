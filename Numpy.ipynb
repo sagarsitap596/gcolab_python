{
  "nbformat": 4,
  "nbformat_minor": 0,
  "metadata": {
    "colab": {
      "name": "Numpy.ipynb",
      "version": "0.3.2",
      "provenance": [],
      "collapsed_sections": [],
      "include_colab_link": true
    },
    "kernelspec": {
      "name": "python3",
      "display_name": "Python 3"
    }
  },
  "cells": [
    {
      "cell_type": "markdown",
      "metadata": {
        "id": "view-in-github",
        "colab_type": "text"
      },
      "source": [
        "<a href=\"https://colab.research.google.com/github/sagarsitap596/gcolab_python/blob/master/Numpy.ipynb\" target=\"_parent\"><img src=\"https://colab.research.google.com/assets/colab-badge.svg\" alt=\"Open In Colab\"/></a>"
      ]
    },
    {
      "cell_type": "code",
      "metadata": {
        "id": "kSyR0aaeyShc",
        "colab_type": "code",
        "outputId": "6e2992cb-56b3-4788-cb6c-62ffd2208b76",
        "colab": {
          "base_uri": "https://localhost:8080/",
          "height": 173
        }
      },
      "source": [
        "import numpy as np\n",
        "a1=np.array([[1,2,3],[4,5,6],[7,8,9]])\n",
        "\n",
        "print(a1.size)\n",
        "print(a1.shape)\n",
        "print(len(a1))\n",
        "print(a1[::-1])\n",
        "print(a1[:,1:])"
      ],
      "execution_count": 1,
      "outputs": [
        {
          "output_type": "stream",
          "text": [
            "9\n",
            "(3, 3)\n",
            "3\n",
            "[[7 8 9]\n",
            " [4 5 6]\n",
            " [1 2 3]]\n",
            "[[2 3]\n",
            " [5 6]\n",
            " [8 9]]\n"
          ],
          "name": "stdout"
        }
      ]
    },
    {
      "cell_type": "code",
      "metadata": {
        "id": "K0CHAHtYzID9",
        "colab_type": "code",
        "outputId": "0d3d909e-0d1d-4f25-d1ac-57eb12dd99cd",
        "colab": {
          "base_uri": "https://localhost:8080/",
          "height": 86
        }
      },
      "source": [
        "#Vectorization\n",
        "\n",
        "greaterThen2 = a1 > 2\n",
        "print(greaterThen2)\n",
        "b = a1[greaterThen2]\n",
        "print(b)"
      ],
      "execution_count": 6,
      "outputs": [
        {
          "output_type": "stream",
          "text": [
            "[[False False  True]\n",
            " [ True  True  True]\n",
            " [ True  True  True]]\n",
            "[3 4 5 6 7 8 9]\n"
          ],
          "name": "stdout"
        }
      ]
    },
    {
      "cell_type": "code",
      "metadata": {
        "id": "TjeQO7HBmOwG",
        "colab_type": "code",
        "colab": {
          "base_uri": "https://localhost:8080/",
          "height": 605
        },
        "outputId": "e7ab0f71-d3b7-4086-fcbd-b9d89ae85c51"
      },
      "source": [
        "# Operations\n",
        "a=np.arange(1,10).reshape((3,3))\n",
        "b=np.full((3,3),2)\n",
        "\n",
        "print(\"=\"*20)\n",
        "#Addition\n",
        "print(a+b)\n",
        "print(np.add(a,b))\n",
        "\n",
        "print(\"=\"*20)\n",
        "#Subtraction\n",
        "print(a-b)\n",
        "print(np.subtract(a,b))\n",
        "\n",
        "print(\"=\"*20)\n",
        "#Mjltiplication\n",
        "print(a*b)\n",
        "print(np.multiply(a,b))\n",
        "\n",
        "print(\"=\"*20)\n",
        "#Division\n",
        "print(a/b)\n",
        "print(np.divide(a,b))\n",
        "\n",
        "print(\"=\"*20)\n",
        "# square\n",
        "square=a**2\n",
        "print(square)\n",
        "\n",
        "print(\"=\"*20)\n",
        "# sqrt\n",
        "print(np.sqrt(b))\n",
        "\n",
        "\n",
        "\n"
      ],
      "execution_count": 29,
      "outputs": [
        {
          "output_type": "stream",
          "text": [
            "====================\n",
            "[[ 3  4  5]\n",
            " [ 6  7  8]\n",
            " [ 9 10 11]]\n",
            "[[ 3  4  5]\n",
            " [ 6  7  8]\n",
            " [ 9 10 11]]\n",
            "====================\n",
            "[[-1  0  1]\n",
            " [ 2  3  4]\n",
            " [ 5  6  7]]\n",
            "[[-1  0  1]\n",
            " [ 2  3  4]\n",
            " [ 5  6  7]]\n",
            "====================\n",
            "[[ 2  4  6]\n",
            " [ 8 10 12]\n",
            " [14 16 18]]\n",
            "[[ 2  4  6]\n",
            " [ 8 10 12]\n",
            " [14 16 18]]\n",
            "====================\n",
            "[[0.5 1.  1.5]\n",
            " [2.  2.5 3. ]\n",
            " [3.5 4.  4.5]]\n",
            "[[0.5 1.  1.5]\n",
            " [2.  2.5 3. ]\n",
            " [3.5 4.  4.5]]\n",
            "[[ 1  4  9]\n",
            " [16 25 36]\n",
            " [49 64 81]]\n",
            "[[1.41421356 1.41421356 1.41421356]\n",
            " [1.41421356 1.41421356 1.41421356]\n",
            " [1.41421356 1.41421356 1.41421356]]\n"
          ],
          "name": "stdout"
        }
      ]
    },
    {
      "cell_type": "code",
      "metadata": {
        "id": "9rJv9leNpT_I",
        "colab_type": "code",
        "colab": {
          "base_uri": "https://localhost:8080/",
          "height": 225
        },
        "outputId": "7edd58f3-b140-4688-b386-8699c5b9ab77"
      },
      "source": [
        "# Aggregations functions\n",
        "\n",
        "# axis =0 is column wise\n",
        "# axis =1 row wise\n",
        "\n",
        "a=np.arange(1,11).reshape((5,2))\n",
        "\n",
        "print(np.min(a))\n",
        "print(np.min(a,axis=0)) # min of all entries in each column. Since there are two columns output is t\n",
        "print(np.min(a,axis=1))\n",
        "print(\"=\"*20)\n",
        "\n",
        "print(np.max(a))\n",
        "print(np.max(a,axis=0))\n",
        "print(np.max(a,axis=1))\n",
        "print(\"=\"*20)\n",
        "\n",
        "print(np.sum(a))\n",
        "print(np.sum(a,axis=0))\n",
        "print(np.sum(a,axis=1))\n",
        "print(\"=\"*20)\n",
        "\n",
        "print(np.cumsum(a)) # cumulitive sum of all numbers till every index"
      ],
      "execution_count": 39,
      "outputs": [
        {
          "output_type": "stream",
          "text": [
            "1\n",
            "[1 2]\n",
            "[1 3 5 7 9]\n",
            "====================\n",
            "10\n",
            "[ 9 10]\n",
            "[ 2  4  6  8 10]\n",
            "====================\n",
            "55\n",
            "[25 30]\n",
            "[ 3  7 11 15 19]\n",
            "[ 1  3  6 10 15 21 28 36 45 55]\n"
          ],
          "name": "stdout"
        }
      ]
    }
  ]
}