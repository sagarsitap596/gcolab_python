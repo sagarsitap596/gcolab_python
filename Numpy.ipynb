{
  "nbformat": 4,
  "nbformat_minor": 0,
  "metadata": {
    "colab": {
      "name": "Numpy.ipynb",
      "version": "0.3.2",
      "provenance": [],
      "collapsed_sections": [],
      "include_colab_link": true
    },
    "kernelspec": {
      "name": "python3",
      "display_name": "Python 3"
    }
  },
  "cells": [
    {
      "cell_type": "markdown",
      "metadata": {
        "id": "view-in-github",
        "colab_type": "text"
      },
      "source": [
        "<a href=\"https://colab.research.google.com/github/sagarsitap596/gcolab_python/blob/master/Numpy.ipynb\" target=\"_parent\"><img src=\"https://colab.research.google.com/assets/colab-badge.svg\" alt=\"Open In Colab\"/></a>"
      ]
    },
    {
      "cell_type": "code",
      "metadata": {
        "id": "kSyR0aaeyShc",
        "colab_type": "code",
        "outputId": "944896f9-f93c-4042-8636-7f006a7990b4",
        "colab": {
          "base_uri": "https://localhost:8080/",
          "height": 207
        }
      },
      "source": [
        "import numpy as np\n",
        "a1=np.array([[1,2,3],[4,5,6]])\n",
        "\n",
        "print(\"Size :\",a1.size)\n",
        "print(\"Dimensiom :\",a1.ndim)\n",
        "print(\"Data type\",a1.dtype)\n",
        "print(\"Size of datatype in bytes\",a1.itemsize)\n",
        "print(\"Total size in bytes\",a1.nbytes)\n",
        "print(\"m X n\",a1.shape)\n",
        "print(\"Length of rows\",len(a1))\n",
        "print(a1[::-1])\n",
        "print(a1[:,1:])"
      ],
      "execution_count": 0,
      "outputs": [
        {
          "output_type": "stream",
          "text": [
            "Size : 6\n",
            "Dimensiom : 2\n",
            "Data type int64\n",
            "Size of datatype in bytes 8\n",
            "Total size in bytes 48\n",
            "m X n (2, 3)\n",
            "Length of rows 2\n",
            "[[4 5 6]\n",
            " [1 2 3]]\n",
            "[[2 3]\n",
            " [5 6]]\n"
          ],
          "name": "stdout"
        }
      ]
    },
    {
      "cell_type": "code",
      "metadata": {
        "id": "Wq8JTgmBaxZv",
        "colab_type": "code",
        "outputId": "3d8b4c95-4999-45b9-cadf-bf1d686aaa6a",
        "colab": {
          "base_uri": "https://localhost:8080/",
          "height": 35
        }
      },
      "source": [
        "# 2d array\n",
        "a1=np.array([[0,1,2,3], [2,3,4]], dtype=object)\n",
        "print(a1.ndim)"
      ],
      "execution_count": 0,
      "outputs": [
        {
          "output_type": "stream",
          "text": [
            "1\n"
          ],
          "name": "stdout"
        }
      ]
    },
    {
      "cell_type": "code",
      "metadata": {
        "id": "otjHWIwqPpAX",
        "colab_type": "code",
        "outputId": "b057bba2-ff22-464c-f102-0a1559be2df8",
        "colab": {
          "base_uri": "https://localhost:8080/",
          "height": 252
        }
      },
      "source": [
        "a = np.zeros(6)\n",
        "print(a)\n",
        "b = np.arange(0,10,2)\n",
        "print(b)\n",
        "c=a+b\n",
        "print(c)"
      ],
      "execution_count": 0,
      "outputs": [
        {
          "output_type": "stream",
          "text": [
            "[0. 0. 0. 0. 0. 0.]\n",
            "[0 2 4 6 8]\n"
          ],
          "name": "stdout"
        },
        {
          "output_type": "error",
          "ename": "ValueError",
          "evalue": "ignored",
          "traceback": [
            "\u001b[0;31m---------------------------------------------------------------------------\u001b[0m",
            "\u001b[0;31mValueError\u001b[0m                                Traceback (most recent call last)",
            "\u001b[0;32m<ipython-input-9-40d89414c22d>\u001b[0m in \u001b[0;36m<module>\u001b[0;34m()\u001b[0m\n\u001b[1;32m      3\u001b[0m \u001b[0mb\u001b[0m \u001b[0;34m=\u001b[0m \u001b[0mnp\u001b[0m\u001b[0;34m.\u001b[0m\u001b[0marange\u001b[0m\u001b[0;34m(\u001b[0m\u001b[0;36m0\u001b[0m\u001b[0;34m,\u001b[0m\u001b[0;36m10\u001b[0m\u001b[0;34m,\u001b[0m\u001b[0;36m2\u001b[0m\u001b[0;34m)\u001b[0m\u001b[0;34m\u001b[0m\u001b[0;34m\u001b[0m\u001b[0m\n\u001b[1;32m      4\u001b[0m \u001b[0mprint\u001b[0m\u001b[0;34m(\u001b[0m\u001b[0mb\u001b[0m\u001b[0;34m)\u001b[0m\u001b[0;34m\u001b[0m\u001b[0;34m\u001b[0m\u001b[0m\n\u001b[0;32m----> 5\u001b[0;31m \u001b[0mc\u001b[0m\u001b[0;34m=\u001b[0m\u001b[0ma\u001b[0m\u001b[0;34m+\u001b[0m\u001b[0mb\u001b[0m\u001b[0;34m\u001b[0m\u001b[0;34m\u001b[0m\u001b[0m\n\u001b[0m\u001b[1;32m      6\u001b[0m \u001b[0mprint\u001b[0m\u001b[0;34m(\u001b[0m\u001b[0mc\u001b[0m\u001b[0;34m)\u001b[0m\u001b[0;34m\u001b[0m\u001b[0;34m\u001b[0m\u001b[0m\n",
            "\u001b[0;31mValueError\u001b[0m: operands could not be broadcast together with shapes (6,) (5,) "
          ]
        }
      ]
    },
    {
      "cell_type": "code",
      "metadata": {
        "id": "bbWP9L4CRERH",
        "colab_type": "code",
        "outputId": "d478448d-02a8-4334-e1ae-d58046ee6d2c",
        "colab": {
          "base_uri": "https://localhost:8080/",
          "height": 35
        }
      },
      "source": [
        "a = np.array([1,2,3,4,5])\n",
        "b = np.arange(0,10,2)\n",
        "c = a * b\n",
        "print (c[4])"
      ],
      "execution_count": 0,
      "outputs": [
        {
          "output_type": "stream",
          "text": [
            "40\n"
          ],
          "name": "stdout"
        }
      ]
    },
    {
      "cell_type": "code",
      "metadata": {
        "id": "CaOX5bB8Pp7w",
        "colab_type": "code",
        "outputId": "e4499645-a45d-43f7-f258-83aeb768347a",
        "colab": {
          "base_uri": "https://localhost:8080/",
          "height": 104
        }
      },
      "source": [
        "a = np.array([[0, 1, 0], [1, 0, 1]])\n",
        "a += 3\n",
        "print(a)\n",
        "b = a + 3\n",
        "print(b)\n",
        "print (a[1,2] + b[1,2])"
      ],
      "execution_count": 0,
      "outputs": [
        {
          "output_type": "stream",
          "text": [
            "[[3 4 3]\n",
            " [4 3 4]]\n",
            "[[6 7 6]\n",
            " [7 6 7]]\n",
            "11\n"
          ],
          "name": "stdout"
        }
      ]
    },
    {
      "cell_type": "code",
      "metadata": {
        "id": "K0CHAHtYzID9",
        "colab_type": "code",
        "outputId": "0d3d909e-0d1d-4f25-d1ac-57eb12dd99cd",
        "colab": {
          "base_uri": "https://localhost:8080/",
          "height": 86
        }
      },
      "source": [
        "#Vectorization\n",
        "\n",
        "greaterThen2 = a1 > 2\n",
        "print(greaterThen2)\n",
        "b = a1[greaterThen2]\n",
        "print(b)"
      ],
      "execution_count": 0,
      "outputs": [
        {
          "output_type": "stream",
          "text": [
            "[[False False  True]\n",
            " [ True  True  True]\n",
            " [ True  True  True]]\n",
            "[3 4 5 6 7 8 9]\n"
          ],
          "name": "stdout"
        }
      ]
    },
    {
      "cell_type": "code",
      "metadata": {
        "id": "TjeQO7HBmOwG",
        "colab_type": "code",
        "outputId": "e7ab0f71-d3b7-4086-fcbd-b9d89ae85c51",
        "colab": {
          "base_uri": "https://localhost:8080/",
          "height": 605
        }
      },
      "source": [
        "# Operations\n",
        "a=np.arange(1,10).reshape((3,3))\n",
        "b=np.full((3,3),2)\n",
        "\n",
        "print(\"=\"*20)\n",
        "#Addition\n",
        "print(a+b)\n",
        "print(np.add(a,b))\n",
        "\n",
        "print(\"=\"*20)\n",
        "#Subtraction\n",
        "print(a-b)\n",
        "print(np.subtract(a,b))\n",
        "\n",
        "print(\"=\"*20)\n",
        "#Mjltiplication\n",
        "print(a*b)\n",
        "print(np.multiply(a,b))\n",
        "\n",
        "print(\"=\"*20)\n",
        "#Division\n",
        "print(a/b)\n",
        "print(np.divide(a,b))\n",
        "\n",
        "print(\"=\"*20)\n",
        "# square\n",
        "square=a**2\n",
        "print(square)\n",
        "\n",
        "print(\"=\"*20)\n",
        "# sqrt\n",
        "print(np.sqrt(b))\n",
        "\n",
        "\n",
        "\n"
      ],
      "execution_count": 0,
      "outputs": [
        {
          "output_type": "stream",
          "text": [
            "====================\n",
            "[[ 3  4  5]\n",
            " [ 6  7  8]\n",
            " [ 9 10 11]]\n",
            "[[ 3  4  5]\n",
            " [ 6  7  8]\n",
            " [ 9 10 11]]\n",
            "====================\n",
            "[[-1  0  1]\n",
            " [ 2  3  4]\n",
            " [ 5  6  7]]\n",
            "[[-1  0  1]\n",
            " [ 2  3  4]\n",
            " [ 5  6  7]]\n",
            "====================\n",
            "[[ 2  4  6]\n",
            " [ 8 10 12]\n",
            " [14 16 18]]\n",
            "[[ 2  4  6]\n",
            " [ 8 10 12]\n",
            " [14 16 18]]\n",
            "====================\n",
            "[[0.5 1.  1.5]\n",
            " [2.  2.5 3. ]\n",
            " [3.5 4.  4.5]]\n",
            "[[0.5 1.  1.5]\n",
            " [2.  2.5 3. ]\n",
            " [3.5 4.  4.5]]\n",
            "[[ 1  4  9]\n",
            " [16 25 36]\n",
            " [49 64 81]]\n",
            "[[1.41421356 1.41421356 1.41421356]\n",
            " [1.41421356 1.41421356 1.41421356]\n",
            " [1.41421356 1.41421356 1.41421356]]\n"
          ],
          "name": "stdout"
        }
      ]
    },
    {
      "cell_type": "code",
      "metadata": {
        "id": "9rJv9leNpT_I",
        "colab_type": "code",
        "outputId": "7edd58f3-b140-4688-b386-8699c5b9ab77",
        "colab": {
          "base_uri": "https://localhost:8080/",
          "height": 225
        }
      },
      "source": [
        "# Aggregations functions\n",
        "\n",
        "# axis =0 is column wise\n",
        "# axis =1 row wise\n",
        "\n",
        "a=np.arange(1,11).reshape((5,2))\n",
        "\n",
        "print(np.min(a))\n",
        "print(np.min(a,axis=0)) # min of all entries in each column. Since there are two columns output is t\n",
        "print(np.min(a,axis=1))\n",
        "print(\"=\"*20)\n",
        "\n",
        "print(np.max(a))\n",
        "print(np.max(a,axis=0))\n",
        "print(np.max(a,axis=1))\n",
        "print(\"=\"*20)\n",
        "\n",
        "print(np.sum(a))\n",
        "print(np.sum(a,axis=0))\n",
        "print(np.sum(a,axis=1))\n",
        "print(\"=\"*20)\n",
        "\n",
        "print(np.cumsum(a)) # cumulitive sum of all numbers till every index"
      ],
      "execution_count": 0,
      "outputs": [
        {
          "output_type": "stream",
          "text": [
            "1\n",
            "[1 2]\n",
            "[1 3 5 7 9]\n",
            "====================\n",
            "10\n",
            "[ 9 10]\n",
            "[ 2  4  6  8 10]\n",
            "====================\n",
            "55\n",
            "[25 30]\n",
            "[ 3  7 11 15 19]\n",
            "[ 1  3  6 10 15 21 28 36 45 55]\n"
          ],
          "name": "stdout"
        }
      ]
    },
    {
      "cell_type": "code",
      "metadata": {
        "id": "eqSHcDfbOrww",
        "colab_type": "code",
        "outputId": "64570dc7-d06c-4202-be53-9010ed6f4226",
        "colab": {
          "base_uri": "https://localhost:8080/",
          "height": 155
        }
      },
      "source": [
        "a = np.array([[1,2,3],[4,5,6],[7,8,9]])\n",
        "print(a)\n",
        "print(np.delete(a,1,0)) # (array,index,axis (0=row, 1=column))\n",
        "print(a)"
      ],
      "execution_count": 0,
      "outputs": [
        {
          "output_type": "stream",
          "text": [
            "[[1 2 3]\n",
            " [4 5 6]\n",
            " [7 8 9]]\n",
            "[[1 2 3]\n",
            " [7 8 9]]\n",
            "[[1 2 3]\n",
            " [4 5 6]\n",
            " [7 8 9]]\n"
          ],
          "name": "stdout"
        }
      ]
    },
    {
      "cell_type": "code",
      "metadata": {
        "id": "A1IMDCz0k7Sk",
        "colab_type": "code",
        "colab": {}
      },
      "source": [
        "a1=np.array([1,2,3])\n",
        "a2=np.ndarray([1,2,3],dtype=int)\n",
        "print(a1)\n",
        "print(a2)"
      ],
      "execution_count": 0,
      "outputs": []
    },
    {
      "cell_type": "markdown",
      "metadata": {
        "id": "JbHUgpPCXZsp",
        "colab_type": "text"
      },
      "source": [
        "The eye tool returns a 2-D array with 's as the diagonal and 's elsewhere. The diagonal can be main, upper or lower depending on the optional parameter . A positive  is for the upper diagonal, a negative  is for the lower, and a   (default) is for the main diagonal."
      ]
    },
    {
      "cell_type": "code",
      "metadata": {
        "id": "f5kAhCtxW4sk",
        "colab_type": "code",
        "outputId": "91cd25db-327e-4089-e1a3-919650777f2e",
        "colab": {
          "base_uri": "https://localhost:8080/",
          "height": 570
        }
      },
      "source": [
        "print(np.eye(8, 7, k = 1))\n",
        "print(np.eye(8, 7, k = -2))\n",
        "print(np.eye(8, 7, k = -933))\n",
        "print(np.eye(8, 7))\n",
        "\n"
      ],
      "execution_count": 0,
      "outputs": [
        {
          "output_type": "stream",
          "text": [
            "[[0. 1. 0. 0. 0. 0. 0.]\n",
            " [0. 0. 1. 0. 0. 0. 0.]\n",
            " [0. 0. 0. 1. 0. 0. 0.]\n",
            " [0. 0. 0. 0. 1. 0. 0.]\n",
            " [0. 0. 0. 0. 0. 1. 0.]\n",
            " [0. 0. 0. 0. 0. 0. 1.]\n",
            " [0. 0. 0. 0. 0. 0. 0.]\n",
            " [0. 0. 0. 0. 0. 0. 0.]]\n",
            "[[0. 0. 0. 0. 0. 0. 0.]\n",
            " [0. 0. 0. 0. 0. 0. 0.]\n",
            " [1. 0. 0. 0. 0. 0. 0.]\n",
            " [0. 1. 0. 0. 0. 0. 0.]\n",
            " [0. 0. 1. 0. 0. 0. 0.]\n",
            " [0. 0. 0. 1. 0. 0. 0.]\n",
            " [0. 0. 0. 0. 1. 0. 0.]\n",
            " [0. 0. 0. 0. 0. 1. 0.]]\n",
            "[[0. 0. 0. 0. 0. 0. 0.]\n",
            " [0. 0. 0. 0. 0. 0. 0.]\n",
            " [0. 0. 0. 0. 0. 0. 0.]\n",
            " [0. 0. 0. 0. 0. 0. 0.]\n",
            " [0. 0. 0. 0. 0. 0. 0.]\n",
            " [0. 0. 0. 0. 0. 0. 0.]\n",
            " [0. 0. 0. 0. 0. 0. 0.]\n",
            " [0. 0. 0. 0. 0. 0. 0.]]\n",
            "[[1. 0. 0. 0. 0. 0. 0.]\n",
            " [0. 1. 0. 0. 0. 0. 0.]\n",
            " [0. 0. 1. 0. 0. 0. 0.]\n",
            " [0. 0. 0. 1. 0. 0. 0.]\n",
            " [0. 0. 0. 0. 1. 0. 0.]\n",
            " [0. 0. 0. 0. 0. 1. 0.]\n",
            " [0. 0. 0. 0. 0. 0. 1.]\n",
            " [0. 0. 0. 0. 0. 0. 0.]]\n"
          ],
          "name": "stdout"
        }
      ]
    },
    {
      "cell_type": "code",
      "metadata": {
        "id": "jM92Kz-VYwvm",
        "colab_type": "code",
        "colab": {}
      },
      "source": [
        "N,M=tuple([int(i) for i in input().strip().split(' ')])\n",
        "print(numpy.eye((N,M)))"
      ],
      "execution_count": 0,
      "outputs": []
    },
    {
      "cell_type": "markdown",
      "metadata": {
        "id": "nHoCv0m6kvao",
        "colab_type": "text"
      },
      "source": [
        "https://thispointer.com/find-the-index-of-a-value-in-numpy-array/\n",
        "\n",
        "Index of element in 1D Numpy array"
      ]
    },
    {
      "cell_type": "code",
      "metadata": {
        "id": "axG9gqeJkr9u",
        "colab_type": "code",
        "outputId": "c40d2602-6c9e-4d7e-f7ad-b9d0e8995b06",
        "colab": {
          "base_uri": "https://localhost:8080/",
          "height": 86
        }
      },
      "source": [
        "arr1=np.array([1,2,3,4,5,6,7,5,6,7,8,9],dtype=int)\n",
        "print(arr1)\n",
        "\n",
        "index=np.where(arr1==5) \n",
        "\n",
        "print(index)\n",
        "\n",
        "print(\"Index of 5 is : {}\".format(index[0]))\n",
        "print(\"first Index of 5 is : {}\".format(index[0][0]))\n",
        "\n",
        "\n"
      ],
      "execution_count": 0,
      "outputs": [
        {
          "output_type": "stream",
          "text": [
            "[1 2 3 4 5 6 7 5 6 7 8 9]\n",
            "(array([4, 7]),)\n",
            "Index of 5 is : [4 7]\n",
            "first Index of 5 is : 4\n"
          ],
          "name": "stdout"
        }
      ]
    },
    {
      "cell_type": "markdown",
      "metadata": {
        "id": "oT6e0WH0ljQG",
        "colab_type": "text"
      },
      "source": [
        "Index of element in 2D Numpy array"
      ]
    },
    {
      "cell_type": "code",
      "metadata": {
        "id": "d5VPm3e9lmKl",
        "colab_type": "code",
        "outputId": "aafe32bc-58e7-429a-d6e7-a6d4ef49943a",
        "colab": {
          "base_uri": "https://localhost:8080/",
          "height": 104
        }
      },
      "source": [
        "arr1=np.array([[1,2,3],[4,5,6],[7,5,5]])\n",
        "print(arr1)\n",
        "\n",
        "index=np.where(arr1 == 5)\n",
        "\n",
        "print(index)\n",
        "\n",
        "rows_index=index[0]\n",
        "columns_index=index[1]\n",
        "\n",
        "coordinates=tuple(zip(rows_index,columns_index))\n",
        "\n",
        "print(coordinates)"
      ],
      "execution_count": 0,
      "outputs": [
        {
          "output_type": "stream",
          "text": [
            "[[1 2 3]\n",
            " [4 5 6]\n",
            " [7 5 5]]\n",
            "(array([1, 2, 2]), array([1, 1, 2]))\n",
            "((1, 1), (2, 1), (2, 2))\n"
          ],
          "name": "stdout"
        }
      ]
    },
    {
      "cell_type": "code",
      "metadata": {
        "id": "6xOT63E_51ia",
        "colab_type": "code",
        "outputId": "ba767425-815d-4bfc-f60a-4e1ae414a9c1",
        "colab": {
          "base_uri": "https://localhost:8080/",
          "height": 200
        }
      },
      "source": [
        "# conditions\n",
        "\n",
        "array1 = np.arange(9).reshape(3,3)\n",
        " \n",
        "print(array1[array1 > 5 and array1 < 8])"
      ],
      "execution_count": 17,
      "outputs": [
        {
          "output_type": "error",
          "ename": "ValueError",
          "evalue": "ignored",
          "traceback": [
            "\u001b[0;31m---------------------------------------------------------------------------\u001b[0m",
            "\u001b[0;31mValueError\u001b[0m                                Traceback (most recent call last)",
            "\u001b[0;32m<ipython-input-17-e3d5af55d9d4>\u001b[0m in \u001b[0;36m<module>\u001b[0;34m()\u001b[0m\n\u001b[1;32m      2\u001b[0m \u001b[0marray1\u001b[0m \u001b[0;34m=\u001b[0m \u001b[0mnp\u001b[0m\u001b[0;34m.\u001b[0m\u001b[0marange\u001b[0m\u001b[0;34m(\u001b[0m\u001b[0;36m9\u001b[0m\u001b[0;34m)\u001b[0m\u001b[0;34m.\u001b[0m\u001b[0mreshape\u001b[0m\u001b[0;34m(\u001b[0m\u001b[0;36m3\u001b[0m\u001b[0;34m,\u001b[0m\u001b[0;36m3\u001b[0m\u001b[0;34m)\u001b[0m\u001b[0;34m\u001b[0m\u001b[0;34m\u001b[0m\u001b[0m\n\u001b[1;32m      3\u001b[0m \u001b[0;34m\u001b[0m\u001b[0m\n\u001b[0;32m----> 4\u001b[0;31m \u001b[0mprint\u001b[0m\u001b[0;34m(\u001b[0m\u001b[0marray1\u001b[0m\u001b[0;34m[\u001b[0m\u001b[0marray1\u001b[0m \u001b[0;34m>\u001b[0m \u001b[0;36m5\u001b[0m \u001b[0;32mand\u001b[0m \u001b[0marray1\u001b[0m \u001b[0;34m<\u001b[0m \u001b[0;36m8\u001b[0m\u001b[0;34m]\u001b[0m\u001b[0;34m)\u001b[0m\u001b[0;34m\u001b[0m\u001b[0;34m\u001b[0m\u001b[0m\n\u001b[0m",
            "\u001b[0;31mValueError\u001b[0m: The truth value of an array with more than one element is ambiguous. Use a.any() or a.all()"
          ]
        }
      ]
    },
    {
      "cell_type": "code",
      "metadata": {
        "id": "GXmVBDUiD-5K",
        "colab_type": "code",
        "colab": {
          "base_uri": "https://localhost:8080/",
          "height": 397
        },
        "outputId": "2b52413c-d8f9-4d79-a14d-a4ba29b167f1"
      },
      "source": [
        "#Addition and sum\n",
        "\n",
        "arr1=np.array([[1,2],[3,4],[1,1]])\n",
        "arr2=np.array([[11,22],[33,44],[2,2]])\n",
        "print(np.add(arr1,arr2))\n",
        "print(np.sum(arr1))\n",
        "\n",
        "print(np.sum(arr1,axis=0))\n",
        "print(np.sum(arr1,axis=1))\n",
        "\n",
        "# broadcasting\n",
        "print(\"=\"*20)\n",
        "arr1=np.array([[1,2,3]])\n",
        "print(arr1,arr1.T,sep='\\n')\n",
        "print(np.add(arr1,arr1.T))\n",
        "print(\"=\"*20)\n",
        "\n",
        "\n",
        "print(\"=\"*20)\n",
        "\n",
        "print(np.add(np.array([[1,2,3],[1,2,3],[1,2,3]]),np.array([[1,2,3],[1,2,3],[1,2,3]])))\n"
      ],
      "execution_count": 45,
      "outputs": [
        {
          "output_type": "stream",
          "text": [
            "[[12 24]\n",
            " [36 48]\n",
            " [ 3  3]]\n",
            "12\n",
            "[5 7]\n",
            "[3 7 2]\n",
            "====================\n",
            "[[1 2 3]]\n",
            "[[1]\n",
            " [2]\n",
            " [3]]\n",
            "[[2 3 4]\n",
            " [3 4 5]\n",
            " [4 5 6]]\n",
            "====================\n",
            "(1, 3)\n",
            "(3,)\n",
            "[[2 4 6]]\n",
            "====================\n",
            "[[2 4 6]\n",
            " [2 4 6]\n",
            " [2 4 6]]\n"
          ],
          "name": "stdout"
        }
      ]
    },
    {
      "cell_type": "code",
      "metadata": {
        "id": "h4wkaAH3Ps8M",
        "colab_type": "code",
        "colab": {
          "base_uri": "https://localhost:8080/",
          "height": 69
        },
        "outputId": "34031025-387d-4fa9-c692-3e577c5ad6dd"
      },
      "source": [
        "arr1=np.array([1,2,3]).reshape(1,3)\n",
        "arr2=np.array([1,2,3]).reshape(3,)\n",
        "\n",
        "print(arr1)\n",
        "print(arr2)\n",
        "\n",
        "print(np.add(arr1,arr2))"
      ],
      "execution_count": 49,
      "outputs": [
        {
          "output_type": "stream",
          "text": [
            "[[1 2 3]]\n",
            "[1 2 3]\n",
            "[[2 4 6]]\n"
          ],
          "name": "stdout"
        }
      ]
    },
    {
      "cell_type": "code",
      "metadata": {
        "id": "UPOlEGsLJ_Gx",
        "colab_type": "code",
        "colab": {
          "base_uri": "https://localhost:8080/",
          "height": 190
        },
        "outputId": "65c57dc2-e5b9-48d9-f580-46807351da09"
      },
      "source": [
        "# Concatenate\n",
        "a1=np.array([[1,2,3],[4,5,6]])\n",
        "a2=np.array([[11,22,33],[44,55,66]])\n",
        "\n",
        "print(a1)\n",
        "print(a2)\n",
        "print(np.concatenate((a1,a2),axis=0))\n",
        "\n",
        "print(np.concatenate((a1,a2),axis=1))\n"
      ],
      "execution_count": 33,
      "outputs": [
        {
          "output_type": "stream",
          "text": [
            "[[1 2 3]\n",
            " [4 5 6]]\n",
            "[[11 22 33]\n",
            " [44 55 66]]\n",
            "[[ 1  2  3]\n",
            " [ 4  5  6]\n",
            " [11 22 33]\n",
            " [44 55 66]]\n",
            "[[ 1  2  3 11 22 33]\n",
            " [ 4  5  6 44 55 66]]\n"
          ],
          "name": "stdout"
        }
      ]
    },
    {
      "cell_type": "code",
      "metadata": {
        "id": "IVSpPHETJ_6L",
        "colab_type": "code",
        "colab": {}
      },
      "source": [
        "# linspace"
      ],
      "execution_count": 0,
      "outputs": []
    },
    {
      "cell_type": "code",
      "metadata": {
        "id": "S9CeM3F2QuGE",
        "colab_type": "code",
        "colab": {
          "base_uri": "https://localhost:8080/",
          "height": 69
        },
        "outputId": "7a571f10-0563-48ab-ef8d-4da9ec34f5a7"
      },
      "source": [
        "print(np.linspace(0,10,10))\n",
        "print(len(np.linspace(0,10,10)))"
      ],
      "execution_count": 51,
      "outputs": [
        {
          "output_type": "stream",
          "text": [
            "[ 0.          1.11111111  2.22222222  3.33333333  4.44444444  5.55555556\n",
            "  6.66666667  7.77777778  8.88888889 10.        ]\n",
            "10\n"
          ],
          "name": "stdout"
        }
      ]
    }
  ]
}