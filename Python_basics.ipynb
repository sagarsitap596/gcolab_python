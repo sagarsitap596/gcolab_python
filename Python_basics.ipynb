{
  "nbformat": 4,
  "nbformat_minor": 0,
  "metadata": {
    "colab": {
      "name": "Python_basics.ipynb",
      "version": "0.3.2",
      "provenance": [],
      "collapsed_sections": [],
      "include_colab_link": true
    },
    "kernelspec": {
      "name": "python3",
      "display_name": "Python 3"
    }
  },
  "cells": [
    {
      "cell_type": "markdown",
      "metadata": {
        "id": "view-in-github",
        "colab_type": "text"
      },
      "source": [
        "<a href=\"https://colab.research.google.com/github/sagarsitap596/gcolab_python/blob/master/Python_basics.ipynb\" target=\"_parent\"><img src=\"https://colab.research.google.com/assets/colab-badge.svg\" alt=\"Open In Colab\"/></a>"
      ]
    },
    {
      "cell_type": "code",
      "metadata": {
        "id": "f3CI2D6t46hm",
        "colab_type": "code",
        "outputId": "cfdbf318-ece4-4eb5-950b-67516e3d08dd",
        "colab": {
          "base_uri": "https://localhost:8080/",
          "height": 102
        }
      },
      "source": [
        "s=\"sagar mahadev sitap\"\n",
        "print(len(s))\n",
        "print(s.capitalize())\n",
        "print(s.title())\n",
        "print(s.upper())\n",
        "print(s.)"
      ],
      "execution_count": 0,
      "outputs": [
        {
          "output_type": "stream",
          "text": [
            "19\n",
            "Sagar mahadev sitap\n",
            "Sagar Mahadev Sitap\n",
            "SAGAR MAHADEV SITAP\n",
            "sagar mahadev sitap\n"
          ],
          "name": "stdout"
        }
      ]
    },
    {
      "cell_type": "code",
      "metadata": {
        "id": "WW2s3fsa5Poy",
        "colab_type": "code",
        "outputId": "e06b8ec9-88aa-4d27-8af5-487c18554004",
        "colab": {
          "base_uri": "https://localhost:8080/",
          "height": 119
        }
      },
      "source": [
        "names=['1sagar','2sagar','5sagar','4sagar','5sagar']\n",
        "print(name)\n",
        "print(type(name))\n",
        "print(len(name))\n",
        "print(id(name))\n",
        "print(name[-1])\n",
        "\n",
        "names[0]=names[0][:4]\n",
        "names[1]=names[1][:-2]\n",
        "names[2]=names[2][-3:-100:-1]\n",
        "names[3]=names[3][0:4]+'-beginner'\n",
        "names[4]='beginner-'+names[4][0:4]\n",
        "\n",
        "print(name)\n"
      ],
      "execution_count": 0,
      "outputs": [
        {
          "output_type": "stream",
          "text": [
            "['1sagar', '2sagar', '5sagar', '4sagar', '5sagar']\n",
            "<class 'list'>\n",
            "5\n",
            "140661447135880\n",
            "5sagar\n",
            "['1sag', '2sag', 'gas5', '4sag-beginner', 'beginner-5sag']\n"
          ],
          "name": "stdout"
        }
      ]
    },
    {
      "cell_type": "code",
      "metadata": {
        "id": "4g37YOEH7Lqj",
        "colab_type": "code",
        "outputId": "74e8214f-69b3-4bfe-8ded-f6cd318d2519",
        "colab": {
          "base_uri": "https://localhost:8080/",
          "height": 153
        }
      },
      "source": [
        "# Dict operations\n",
        "\n",
        "\n",
        "d1 = dict()\n",
        "d1['k1']='v1'\n",
        "d1.update({'k2' : 'v2'})\n",
        "d1.update({'k2' : 'v22'})\n",
        "\n",
        "print(d1)\n",
        "\n",
        "names_dist = {'L1' : ['L1_1sagar','L1_2sagar','L1_5sagar','L1_4sagar','L1_5sagar'],'L2' : ['L2_1sagar','L2_2sagar','L2_5sagar']}\n",
        "\n",
        "print(names_dist.get('L1'))\n",
        "print(type(names_dist.get('L1')))\n",
        "print(names_dist['L2'],end='\\n\\n')\n",
        "print(names_dist['L1'][0][0:7])\n",
        "print(names_dist.get('L1')[0][0:2])\n",
        "print(names_dist['L2'][2][:-3])\n"
      ],
      "execution_count": 0,
      "outputs": [
        {
          "output_type": "stream",
          "text": [
            "{'k1': 'v1', 'k2': 'v22'}\n",
            "['L1_1sagar', 'L1_2sagar', 'L1_5sagar', 'L1_4sagar', 'L1_5sagar']\n",
            "<class 'list'>\n",
            "['L2_1sagar', 'L2_2sagar', 'L2_5sagar']\n",
            "\n",
            "L1_1sag\n",
            "L1\n",
            "L2_5sa\n"
          ],
          "name": "stdout"
        }
      ]
    },
    {
      "cell_type": "code",
      "metadata": {
        "id": "GxrMkwLPAdZM",
        "colab_type": "code",
        "outputId": "25106ce2-d5c4-4319-ed51-d0fab4b10e09",
        "colab": {
          "base_uri": "https://localhost:8080/",
          "height": 442
        }
      },
      "source": [
        "\n",
        "nn = list(range(5))\n",
        "print(nn)\n",
        "\n",
        "for n in range(21):\n",
        "  if( n % 3 == 0 and n % 6 == 0):\n",
        "    print(str(n)+\" Divisible by 3 and \")\n",
        "  else :\n",
        "    print(str(n)+\" Not Divisible \")\n",
        "    \n",
        "    \n",
        "x,y = 14,7\n",
        "print(x)\n",
        "print(y)\n",
        "\n",
        "print(\" x is divisible by y : {}\".format(x % y == 0))\n",
        "  "
      ],
      "execution_count": 0,
      "outputs": [
        {
          "output_type": "stream",
          "text": [
            "[0, 1, 2, 3, 4]\n",
            "0 Divisible by 3 and \n",
            "1 Not Divisible \n",
            "2 Not Divisible \n",
            "3 Not Divisible \n",
            "4 Not Divisible \n",
            "5 Not Divisible \n",
            "6 Divisible by 3 and \n",
            "7 Not Divisible \n",
            "8 Not Divisible \n",
            "9 Not Divisible \n",
            "10 Not Divisible \n",
            "11 Not Divisible \n",
            "12 Divisible by 3 and \n",
            "13 Not Divisible \n",
            "14 Not Divisible \n",
            "15 Not Divisible \n",
            "16 Not Divisible \n",
            "17 Not Divisible \n",
            "18 Divisible by 3 and \n",
            "19 Not Divisible \n",
            "20 Not Divisible \n",
            "14\n",
            "7\n",
            " x is divisible by y : True\n"
          ],
          "name": "stdout"
        }
      ]
    },
    {
      "cell_type": "code",
      "metadata": {
        "id": "gOymGl2RGjn6",
        "colab_type": "code",
        "outputId": "6363c71f-91f3-4993-a38c-b4980b29443d",
        "colab": {
          "base_uri": "https://localhost:8080/",
          "height": 34
        }
      },
      "source": [
        "l1 = ['x','y','x','d','y']\n",
        "del l1[0]\n",
        "print(l1)"
      ],
      "execution_count": 0,
      "outputs": [
        {
          "output_type": "stream",
          "text": [
            "['y', 'x', 'd', 'y']\n"
          ],
          "name": "stdout"
        }
      ]
    },
    {
      "cell_type": "code",
      "metadata": {
        "id": "gAf-d4ZVOD8X",
        "colab_type": "code",
        "outputId": "79ce986a-1e6f-4780-a7ad-cbf4d0bb53dc",
        "colab": {
          "base_uri": "https://localhost:8080/",
          "height": 71
        }
      },
      "source": [
        "\n",
        "\n",
        "even_numbers = []\n",
        "n = 0\n",
        "while( n < 100):\n",
        "  if(n % 2 == 0):\n",
        "    even_numbers.append(n)\n",
        "  n+=1\n",
        "\n",
        "print(even_numbers)    \n",
        "print(len(even_numbers))"
      ],
      "execution_count": 0,
      "outputs": [
        {
          "output_type": "stream",
          "text": [
            "[0, 2, 4, 6, 8, 10, 12, 14, 16, 18, 20, 22, 24, 26, 28, 30, 32, 34, 36, 38, 40, 42, 44, 46, 48, 50, 52, 54, 56, 58, 60, 62, 64, 66, 68, 70, 72, 74, 76, 78, 80, 82, 84, 86, 88, 90, 92, 94, 96, 98]\n",
            "50\n"
          ],
          "name": "stdout"
        }
      ]
    },
    {
      "cell_type": "code",
      "metadata": {
        "id": "r5Nj8v0NQSY0",
        "colab_type": "code",
        "outputId": "07f755ae-5efb-4505-9259-e80555c3e6c5",
        "colab": {
          "base_uri": "https://localhost:8080/",
          "height": 68
        }
      },
      "source": [
        "print(list(range(11)))\n",
        "print(type(range(11)))\n",
        "\n",
        "list1= [i for i in range(11)]\n",
        "print(list1)\n",
        "\n",
        "\n",
        "\n"
      ],
      "execution_count": 0,
      "outputs": [
        {
          "output_type": "stream",
          "text": [
            "[0, 1, 2, 3, 4, 5, 6, 7, 8, 9, 10]\n",
            "<class 'range'>\n",
            "[0, 1, 2, 3, 4, 5, 6, 7, 8, 9, 10]\n"
          ],
          "name": "stdout"
        }
      ]
    },
    {
      "cell_type": "code",
      "metadata": {
        "id": "EMzntyqsX4-V",
        "colab_type": "code",
        "outputId": "eb10a48e-1500-48ed-c4e5-a6615ccbc9ca",
        "colab": {
          "base_uri": "https://localhost:8080/",
          "height": 527
        }
      },
      "source": [
        "# Fibonacci series\n",
        "\n",
        "x=0\n",
        "y=1\n",
        "\n",
        "while(y<60):\n",
        "  \n",
        "  print(\" x = \"+str(id(x)))\n",
        "  print(\" y = \"+str(id(y)))\n",
        "  print(y)\n",
        "  x,y=y,y+x\n",
        "  \n",
        "  "
      ],
      "execution_count": 13,
      "outputs": [
        {
          "output_type": "stream",
          "text": [
            " x = 10968768\n",
            " y = 10968800\n",
            "1\n",
            " x = 10968800\n",
            " y = 10968800\n",
            "1\n",
            " x = 10968800\n",
            " y = 10968832\n",
            "2\n",
            " x = 10968832\n",
            " y = 10968864\n",
            "3\n",
            " x = 10968864\n",
            " y = 10968928\n",
            "5\n",
            " x = 10968928\n",
            " y = 10969024\n",
            "8\n",
            " x = 10969024\n",
            " y = 10969184\n",
            "13\n",
            " x = 10969184\n",
            " y = 10969440\n",
            "21\n",
            " x = 10969440\n",
            " y = 10969856\n",
            "34\n",
            " x = 10969856\n",
            " y = 10970528\n",
            "55\n"
          ],
          "name": "stdout"
        }
      ]
    },
    {
      "cell_type": "code",
      "metadata": {
        "id": "OyeiGHWgbkRD",
        "colab_type": "code",
        "colab": {}
      },
      "source": [
        ""
      ],
      "execution_count": 0,
      "outputs": []
    }
  ]
}